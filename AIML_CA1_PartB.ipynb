{
 "cells": [
  {
   "cell_type": "markdown",
   "id": "f384eff5-052a-41ba-be5b-9f3be94828b2",
   "metadata": {},
   "source": [
    "# AIML CA1 Part B "
   ]
  },
  {
   "cell_type": "markdown",
   "id": "fad7b9ab-801c-48e3-90a7-255df747af9c",
   "metadata": {},
   "source": [
    "# Imports "
   ]
  },
  {
   "cell_type": "code",
   "execution_count": 1,
   "id": "7f7311af-9a59-4d82-8a39-c281eeaf4015",
   "metadata": {},
   "outputs": [],
   "source": [
    "import pandas as pd\n",
    "import math\n",
    "import numpy as np\n",
    "import sklearn\n",
    "import matplotlib.pyplot as plt\n",
    "from sklearn.model_selection import train_test_split, RandomizedSearchCV, cross_val_score, KFold\n",
    "from sklearn.metrics import r2_score, mean_squared_error\n",
    "from pandas import get_dummies\n",
    "from sklearn.model_selection import GridSearchCV\n",
    "\n",
    "# random state \n",
    "import random\n",
    "random.seed(43)\n",
    "\n",
    "# ignore warnings \n",
    "import warnings\n",
    "warnings.filterwarnings(\"ignore\")\n",
    "\n",
    "# importing models \n",
    "from sklearn.linear_model import LinearRegression\n",
    "from sklearn.linear_model import Lasso \n",
    "from sklearn.tree import DecisionTreeRegressor \n",
    "from sklearn.ensemble import RandomForestRegressor \n",
    "from sklearn.ensemble import GradientBoostingRegressor\n",
    "from sklearn.neighbors import KNeighborsRegressor \n",
    "\n",
    "# dummy\n",
    "from sklearn.dummy import DummyRegressor"
   ]
  },
  {
   "cell_type": "markdown",
   "id": "3da22e42-868b-44e8-a722-587754519607",
   "metadata": {},
   "source": [
    "# 1) Loading Data"
   ]
  },
  {
   "cell_type": "code",
   "execution_count": 2,
   "id": "370976d0-26d8-4f87-a82e-185e4fcec374",
   "metadata": {},
   "outputs": [],
   "source": [
    "# import housing_price_data.csv \n",
    "housingPrice = pd.read_csv('housing_price_data.csv')"
   ]
  },
  {
   "cell_type": "markdown",
   "id": "722afd7d-4310-4cb7-9741-b2df431f63e0",
   "metadata": {},
   "source": [
    "# 2) Analyzing Data"
   ]
  },
  {
   "cell_type": "code",
   "execution_count": 3,
   "id": "7c36aca5-ea7b-4a30-8203-779d29aeabc3",
   "metadata": {},
   "outputs": [
    {
     "name": "stdout",
     "output_type": "stream",
     "text": [
      "<class 'pandas.core.frame.DataFrame'>\n",
      "RangeIndex: 545 entries, 0 to 544\n",
      "Data columns (total 8 columns):\n",
      " #   Column             Non-Null Count  Dtype  \n",
      "---  ------             --------------  -----  \n",
      " 0   House ID           545 non-null    int64  \n",
      " 1   City               545 non-null    object \n",
      " 2   House Area (sqm)   545 non-null    float64\n",
      " 3   No. of Bedrooms    545 non-null    int64  \n",
      " 4   No. of Toilets     545 non-null    int64  \n",
      " 5   Stories            545 non-null    int64  \n",
      " 6   Renovation Status  545 non-null    object \n",
      " 7   Price ($)          545 non-null    int64  \n",
      "dtypes: float64(1), int64(5), object(2)\n",
      "memory usage: 34.2+ KB\n"
     ]
    }
   ],
   "source": [
    "# show the dataset basic information \n",
    "housingPrice.info()\n",
    "# we see that not all columns are in either int or float, so we need to encode them later on"
   ]
  },
  {
   "cell_type": "code",
   "execution_count": 4,
   "id": "b1316da4-5cfe-4574-a9a6-3891af26a50d",
   "metadata": {},
   "outputs": [
    {
     "data": {
      "text/html": [
       "<div>\n",
       "<style scoped>\n",
       "    .dataframe tbody tr th:only-of-type {\n",
       "        vertical-align: middle;\n",
       "    }\n",
       "\n",
       "    .dataframe tbody tr th {\n",
       "        vertical-align: top;\n",
       "    }\n",
       "\n",
       "    .dataframe thead th {\n",
       "        text-align: right;\n",
       "    }\n",
       "</style>\n",
       "<table border=\"1\" class=\"dataframe\">\n",
       "  <thead>\n",
       "    <tr style=\"text-align: right;\">\n",
       "      <th></th>\n",
       "      <th>House ID</th>\n",
       "      <th>House Area (sqm)</th>\n",
       "      <th>No. of Bedrooms</th>\n",
       "      <th>No. of Toilets</th>\n",
       "      <th>Stories</th>\n",
       "      <th>Price ($)</th>\n",
       "    </tr>\n",
       "  </thead>\n",
       "  <tbody>\n",
       "    <tr>\n",
       "      <th>count</th>\n",
       "      <td>545.00000</td>\n",
       "      <td>545.000000</td>\n",
       "      <td>545.000000</td>\n",
       "      <td>545.000000</td>\n",
       "      <td>545.000000</td>\n",
       "      <td>5.450000e+02</td>\n",
       "    </tr>\n",
       "    <tr>\n",
       "      <th>mean</th>\n",
       "      <td>272.00000</td>\n",
       "      <td>515.054128</td>\n",
       "      <td>2.965138</td>\n",
       "      <td>1.286239</td>\n",
       "      <td>1.805505</td>\n",
       "      <td>4.766729e+05</td>\n",
       "    </tr>\n",
       "    <tr>\n",
       "      <th>std</th>\n",
       "      <td>157.47222</td>\n",
       "      <td>217.014102</td>\n",
       "      <td>0.738064</td>\n",
       "      <td>0.502470</td>\n",
       "      <td>0.867492</td>\n",
       "      <td>1.870440e+05</td>\n",
       "    </tr>\n",
       "    <tr>\n",
       "      <th>min</th>\n",
       "      <td>0.00000</td>\n",
       "      <td>165.000000</td>\n",
       "      <td>1.000000</td>\n",
       "      <td>1.000000</td>\n",
       "      <td>1.000000</td>\n",
       "      <td>1.750000e+05</td>\n",
       "    </tr>\n",
       "    <tr>\n",
       "      <th>25%</th>\n",
       "      <td>136.00000</td>\n",
       "      <td>360.000000</td>\n",
       "      <td>2.000000</td>\n",
       "      <td>1.000000</td>\n",
       "      <td>1.000000</td>\n",
       "      <td>3.430000e+05</td>\n",
       "    </tr>\n",
       "    <tr>\n",
       "      <th>50%</th>\n",
       "      <td>272.00000</td>\n",
       "      <td>460.000000</td>\n",
       "      <td>3.000000</td>\n",
       "      <td>1.000000</td>\n",
       "      <td>2.000000</td>\n",
       "      <td>4.340000e+05</td>\n",
       "    </tr>\n",
       "    <tr>\n",
       "      <th>75%</th>\n",
       "      <td>408.00000</td>\n",
       "      <td>636.000000</td>\n",
       "      <td>3.000000</td>\n",
       "      <td>2.000000</td>\n",
       "      <td>2.000000</td>\n",
       "      <td>5.740000e+05</td>\n",
       "    </tr>\n",
       "    <tr>\n",
       "      <th>max</th>\n",
       "      <td>544.00000</td>\n",
       "      <td>1620.000000</td>\n",
       "      <td>6.000000</td>\n",
       "      <td>4.000000</td>\n",
       "      <td>4.000000</td>\n",
       "      <td>1.330000e+06</td>\n",
       "    </tr>\n",
       "  </tbody>\n",
       "</table>\n",
       "</div>"
      ],
      "text/plain": [
       "        House ID  House Area (sqm)  No. of Bedrooms  No. of Toilets  \\\n",
       "count  545.00000        545.000000       545.000000      545.000000   \n",
       "mean   272.00000        515.054128         2.965138        1.286239   \n",
       "std    157.47222        217.014102         0.738064        0.502470   \n",
       "min      0.00000        165.000000         1.000000        1.000000   \n",
       "25%    136.00000        360.000000         2.000000        1.000000   \n",
       "50%    272.00000        460.000000         3.000000        1.000000   \n",
       "75%    408.00000        636.000000         3.000000        2.000000   \n",
       "max    544.00000       1620.000000         6.000000        4.000000   \n",
       "\n",
       "          Stories     Price ($)  \n",
       "count  545.000000  5.450000e+02  \n",
       "mean     1.805505  4.766729e+05  \n",
       "std      0.867492  1.870440e+05  \n",
       "min      1.000000  1.750000e+05  \n",
       "25%      1.000000  3.430000e+05  \n",
       "50%      2.000000  4.340000e+05  \n",
       "75%      2.000000  5.740000e+05  \n",
       "max      4.000000  1.330000e+06  "
      ]
     },
     "execution_count": 4,
     "metadata": {},
     "output_type": "execute_result"
    }
   ],
   "source": [
    "# display basic statistics\n",
    "housingPrice.describe()\n",
    "# we see that there is 545 rows of data and some other information about the data in each column"
   ]
  },
  {
   "cell_type": "code",
   "execution_count": 5,
   "id": "05e9e702-de39-4378-ae32-bf561b4d92ce",
   "metadata": {},
   "outputs": [
    {
     "data": {
      "text/plain": [
       "(545, 8)"
      ]
     },
     "execution_count": 5,
     "metadata": {},
     "output_type": "execute_result"
    }
   ],
   "source": [
    "# number of data \n",
    "housingPrice.shape\n",
    "# checked that there is 545 rows of data with 8 columns"
   ]
  },
  {
   "cell_type": "code",
   "execution_count": 6,
   "id": "ad762d68-2ea1-4f6d-9f98-96826e624ab4",
   "metadata": {},
   "outputs": [
    {
     "data": {
      "text/html": [
       "<div>\n",
       "<style scoped>\n",
       "    .dataframe tbody tr th:only-of-type {\n",
       "        vertical-align: middle;\n",
       "    }\n",
       "\n",
       "    .dataframe tbody tr th {\n",
       "        vertical-align: top;\n",
       "    }\n",
       "\n",
       "    .dataframe thead th {\n",
       "        text-align: right;\n",
       "    }\n",
       "</style>\n",
       "<table border=\"1\" class=\"dataframe\">\n",
       "  <thead>\n",
       "    <tr style=\"text-align: right;\">\n",
       "      <th></th>\n",
       "      <th>House ID</th>\n",
       "      <th>City</th>\n",
       "      <th>House Area (sqm)</th>\n",
       "      <th>No. of Bedrooms</th>\n",
       "      <th>No. of Toilets</th>\n",
       "      <th>Stories</th>\n",
       "      <th>Renovation Status</th>\n",
       "      <th>Price ($)</th>\n",
       "    </tr>\n",
       "  </thead>\n",
       "  <tbody>\n",
       "    <tr>\n",
       "      <th>0</th>\n",
       "      <td>0</td>\n",
       "      <td>Chicago</td>\n",
       "      <td>742.0</td>\n",
       "      <td>4</td>\n",
       "      <td>2</td>\n",
       "      <td>3</td>\n",
       "      <td>furnished</td>\n",
       "      <td>1330000</td>\n",
       "    </tr>\n",
       "    <tr>\n",
       "      <th>1</th>\n",
       "      <td>1</td>\n",
       "      <td>Denver</td>\n",
       "      <td>896.0</td>\n",
       "      <td>4</td>\n",
       "      <td>4</td>\n",
       "      <td>4</td>\n",
       "      <td>furnished</td>\n",
       "      <td>1225000</td>\n",
       "    </tr>\n",
       "    <tr>\n",
       "      <th>2</th>\n",
       "      <td>2</td>\n",
       "      <td>Chicago</td>\n",
       "      <td>996.0</td>\n",
       "      <td>3</td>\n",
       "      <td>2</td>\n",
       "      <td>2</td>\n",
       "      <td>semi-furnished</td>\n",
       "      <td>1225000</td>\n",
       "    </tr>\n",
       "    <tr>\n",
       "      <th>3</th>\n",
       "      <td>3</td>\n",
       "      <td>Seattle</td>\n",
       "      <td>750.0</td>\n",
       "      <td>4</td>\n",
       "      <td>2</td>\n",
       "      <td>2</td>\n",
       "      <td>furnished</td>\n",
       "      <td>1221500</td>\n",
       "    </tr>\n",
       "    <tr>\n",
       "      <th>4</th>\n",
       "      <td>4</td>\n",
       "      <td>New York</td>\n",
       "      <td>742.0</td>\n",
       "      <td>4</td>\n",
       "      <td>1</td>\n",
       "      <td>2</td>\n",
       "      <td>furnished</td>\n",
       "      <td>1141000</td>\n",
       "    </tr>\n",
       "    <tr>\n",
       "      <th>5</th>\n",
       "      <td>5</td>\n",
       "      <td>Boston</td>\n",
       "      <td>750.0</td>\n",
       "      <td>3</td>\n",
       "      <td>3</td>\n",
       "      <td>1</td>\n",
       "      <td>semi-furnished</td>\n",
       "      <td>1085000</td>\n",
       "    </tr>\n",
       "    <tr>\n",
       "      <th>6</th>\n",
       "      <td>6</td>\n",
       "      <td>Denver</td>\n",
       "      <td>858.0</td>\n",
       "      <td>4</td>\n",
       "      <td>3</td>\n",
       "      <td>4</td>\n",
       "      <td>semi-furnished</td>\n",
       "      <td>1015000</td>\n",
       "    </tr>\n",
       "    <tr>\n",
       "      <th>7</th>\n",
       "      <td>7</td>\n",
       "      <td>New York</td>\n",
       "      <td>1620.0</td>\n",
       "      <td>5</td>\n",
       "      <td>3</td>\n",
       "      <td>2</td>\n",
       "      <td>unfurnished</td>\n",
       "      <td>1015000</td>\n",
       "    </tr>\n",
       "    <tr>\n",
       "      <th>8</th>\n",
       "      <td>8</td>\n",
       "      <td>Denver</td>\n",
       "      <td>810.0</td>\n",
       "      <td>4</td>\n",
       "      <td>1</td>\n",
       "      <td>2</td>\n",
       "      <td>furnished</td>\n",
       "      <td>987000</td>\n",
       "    </tr>\n",
       "    <tr>\n",
       "      <th>9</th>\n",
       "      <td>9</td>\n",
       "      <td>Seattle</td>\n",
       "      <td>575.0</td>\n",
       "      <td>3</td>\n",
       "      <td>2</td>\n",
       "      <td>4</td>\n",
       "      <td>unfurnished</td>\n",
       "      <td>980000</td>\n",
       "    </tr>\n",
       "  </tbody>\n",
       "</table>\n",
       "</div>"
      ],
      "text/plain": [
       "   House ID      City  House Area (sqm)  No. of Bedrooms  No. of Toilets  \\\n",
       "0         0   Chicago             742.0                4               2   \n",
       "1         1    Denver             896.0                4               4   \n",
       "2         2   Chicago             996.0                3               2   \n",
       "3         3   Seattle             750.0                4               2   \n",
       "4         4  New York             742.0                4               1   \n",
       "5         5    Boston             750.0                3               3   \n",
       "6         6    Denver             858.0                4               3   \n",
       "7         7  New York            1620.0                5               3   \n",
       "8         8    Denver             810.0                4               1   \n",
       "9         9   Seattle             575.0                3               2   \n",
       "\n",
       "   Stories Renovation Status  Price ($)  \n",
       "0        3         furnished    1330000  \n",
       "1        4         furnished    1225000  \n",
       "2        2    semi-furnished    1225000  \n",
       "3        2         furnished    1221500  \n",
       "4        2         furnished    1141000  \n",
       "5        1    semi-furnished    1085000  \n",
       "6        4    semi-furnished    1015000  \n",
       "7        2       unfurnished    1015000  \n",
       "8        2         furnished     987000  \n",
       "9        4       unfurnished     980000  "
      ]
     },
     "execution_count": 6,
     "metadata": {},
     "output_type": "execute_result"
    }
   ],
   "source": [
    "# first 10 rows of data \n",
    "housingPrice.head(10)\n",
    "# there is one column which does not provide useful information : ‘House ID’ , which is only used for identifying houses\n",
    "# we can also see that ‘City’ and ‘Renovation Status’ are in string so we have to change them into intergers."
   ]
  },
  {
   "cell_type": "markdown",
   "id": "ca0a5225-70a4-43a5-9462-075e8d20e891",
   "metadata": {},
   "source": [
    "# 3) Plotting Graphs "
   ]
  },
  {
   "cell_type": "code",
   "execution_count": 7,
   "id": "1fb34936-8d0b-4d34-8bef-7baa7ec584fa",
   "metadata": {},
   "outputs": [
    {
     "data": {
      "image/png": "[encoded data removed]",
      "text/plain": [
       "<Figure size 640x480 with 1 Axes>"
      ]
     },
     "metadata": {},
     "output_type": "display_data"
    }
   ],
   "source": [
    "# scatter plot \n",
    "plt.scatter(housingPrice['House Area (sqm)'], housingPrice['Price ($)'], color='green')\n",
    "plt.title('Relationship between house pricing and house area')\n",
    "plt.ylabel('Housing Price (mil)')\n",
    "plt.xlabel('House Area (sqm)')\n",
    "plt.show()\n",
    "# the scatter plot shows a linear relationship with a few outliers\n",
    "# we can see that higher house area generally leads to higher housing price despite the linear relationship not being too easily seen"
   ]
  },
  {
   "cell_type": "code",
   "execution_count": 8,
   "id": "f44b298e-8661-42a2-b438-7820a8f0d7a5",
   "metadata": {},
   "outputs": [
    {
     "data": {
      "image/png": "[encoded data removed]",
      "text/plain": [
       "<Figure size 640x480 with 1 Axes>"
      ]
     },
     "metadata": {},
     "output_type": "display_data"
    }
   ],
   "source": [
    "# line graph \n",
    "plt.plot(housingPrice['No. of Bedrooms'], housingPrice['Price ($)'], color='blue')\n",
    "plt.title('Relationship between house pricing and no. of bedrooms')\n",
    "plt.ylabel('Housing Price (mil)')\n",
    "plt.xlabel('No. of bedrooms')\n",
    "plt.show()\n",
    "# while not very obvious with quite a few outliers, there is a linear relationship too\n",
    "# as the number of bedrooms increase, so will the price of housing "
   ]
  },
  {
   "cell_type": "code",
   "execution_count": 9,
   "id": "071fd2be-1606-4cbd-acdd-04c16003746d",
   "metadata": {},
   "outputs": [
    {
     "data": {
      "image/png": "[encoded data removed]",
      "text/plain": [
       "<Figure size 640x480 with 1 Axes>"
      ]
     },
     "metadata": {},
     "output_type": "display_data"
    }
   ],
   "source": [
    "# line graph \n",
    "plt.plot(housingPrice['No. of Toilets'], housingPrice['Price ($)'], color='red')\n",
    "plt.plot(housingPrice['Stories'], housingPrice['Price ($)'], color='blue')\n",
    "plt.title('Relationship between house pricing and no. of toilets')\n",
    "plt.ylabel('Housing Price (mil)')\n",
    "plt.xlabel('No. of toilets')\n",
    "plt.show()\n",
    "# while not being very clear, there is a slight linear relationship\n",
    "# as the number of stories/toilets in the house increase, so will the price of housing "
   ]
  },
  {
   "cell_type": "code",
   "execution_count": 1,
   "id": "5f027e1c-37d6-4d8d-a5f1-cfe0fe8f2104",
   "metadata": {},
   "outputs": [],
   "source": [
    "### House Area is seen to be the factor affecting the house pricing the most \n",
    "# The CLEAREST and MOST OBVIOUS linear relationship is seen in the scatter plot of house area and house pricing \n",
    "# The higher the amount of house area, the higher the pricing of the house \n",
    "# Hence, we can deduce that house area affects the house pricing the most"
   ]
  },
  {
   "cell_type": "code",
   "execution_count": 10,
   "id": "bd8065b2-6f92-41e6-9e5b-d6455bce7482",
   "metadata": {},
   "outputs": [
    {
     "data": {
      "image/png": "[encoded data removed]",
      "text/plain": [
       "<Figure size 640x480 with 1 Axes>"
      ]
     },
     "metadata": {},
     "output_type": "display_data"
    }
   ],
   "source": [
    "# histogram\n",
    "plt.hist(housingPrice['No. of Bedrooms'])\n",
    "plt.title('Number of bedrooms in each house combined')\n",
    "plt.xlabel('Number of bedrooms')\n",
    "plt.ylabel('Number of instances')\n",
    "plt.show()\n",
    "# majority of the rows of data have 3 bedrooms, suggesting that  the number of bedrooms is skewed towards the centre and not evenly spread out\n",
    "# This may lead to the model having insufficient data to learn to deal with data with more or less than 3 bedrooms."
   ]
  },
  {
   "cell_type": "code",
   "execution_count": 11,
   "id": "4fa876fe-5d0f-473c-a30c-4a3c61a795cb",
   "metadata": {},
   "outputs": [
    {
     "data": {
      "image/png": "[encoded data removed]",
      "text/plain": [
       "<Figure size 640x480 with 1 Axes>"
      ]
     },
     "metadata": {},
     "output_type": "display_data"
    }
   ],
   "source": [
    "# histogram \n",
    "plt.bar(housingPrice['City'], housingPrice['Price ($)'],color='r')\n",
    "plt.title('Number of each city in data')\n",
    "plt.xlabel('City')\n",
    "plt.ylabel('Number of instances')\n",
    "plt.show()\n",
    "# we can see that the number of instances of each city is quite evenly spread out compared to the rest\n",
    "# so the model will know how each city affects house pricing equally well as there is enough data for it to learn to do so"
   ]
  },
  {
   "cell_type": "markdown",
   "id": "4a6f2e82-a7ca-4d22-a9ca-8c327ea201b6",
   "metadata": {},
   "source": [
    "# 4) Preparing Data"
   ]
  },
  {
   "cell_type": "code",
   "execution_count": 12,
   "id": "6955c87b-c0d7-4cc5-8fa7-71abfefbd110",
   "metadata": {},
   "outputs": [
    {
     "data": {
      "text/plain": [
       "House ID             0\n",
       "City                 0\n",
       "House Area (sqm)     0\n",
       "No. of Bedrooms      0\n",
       "No. of Toilets       0\n",
       "Stories              0\n",
       "Renovation Status    0\n",
       "Price ($)            0\n",
       "dtype: int64"
      ]
     },
     "execution_count": 12,
     "metadata": {},
     "output_type": "execute_result"
    }
   ],
   "source": [
    "# .isnull()sum() to view sum of number of missing data \n",
    "housingPrice.isnull().sum()\n",
    "# no need to clean data as there are no rows with missing data"
   ]
  },
  {
   "cell_type": "code",
   "execution_count": 13,
   "id": "4915ef6a-6abc-4cf1-b89b-8a91e37101d6",
   "metadata": {},
   "outputs": [
    {
     "data": {
      "text/html": [
       "<div>\n",
       "<style scoped>\n",
       "    .dataframe tbody tr th:only-of-type {\n",
       "        vertical-align: middle;\n",
       "    }\n",
       "\n",
       "    .dataframe tbody tr th {\n",
       "        vertical-align: top;\n",
       "    }\n",
       "\n",
       "    .dataframe thead th {\n",
       "        text-align: right;\n",
       "    }\n",
       "</style>\n",
       "<table border=\"1\" class=\"dataframe\">\n",
       "  <thead>\n",
       "    <tr style=\"text-align: right;\">\n",
       "      <th></th>\n",
       "      <th>House ID</th>\n",
       "      <th>City</th>\n",
       "      <th>House Area (sqm)</th>\n",
       "      <th>No. of Bedrooms</th>\n",
       "      <th>No. of Toilets</th>\n",
       "      <th>Stories</th>\n",
       "      <th>Renovation Status</th>\n",
       "      <th>Price ($)</th>\n",
       "    </tr>\n",
       "  </thead>\n",
       "  <tbody>\n",
       "    <tr>\n",
       "      <th>0</th>\n",
       "      <td>0</td>\n",
       "      <td>Chicago</td>\n",
       "      <td>742.0</td>\n",
       "      <td>4</td>\n",
       "      <td>2</td>\n",
       "      <td>3</td>\n",
       "      <td>furnished</td>\n",
       "      <td>1330000</td>\n",
       "    </tr>\n",
       "    <tr>\n",
       "      <th>1</th>\n",
       "      <td>1</td>\n",
       "      <td>Denver</td>\n",
       "      <td>896.0</td>\n",
       "      <td>4</td>\n",
       "      <td>4</td>\n",
       "      <td>4</td>\n",
       "      <td>furnished</td>\n",
       "      <td>1225000</td>\n",
       "    </tr>\n",
       "    <tr>\n",
       "      <th>2</th>\n",
       "      <td>2</td>\n",
       "      <td>Chicago</td>\n",
       "      <td>996.0</td>\n",
       "      <td>3</td>\n",
       "      <td>2</td>\n",
       "      <td>2</td>\n",
       "      <td>semi-furnished</td>\n",
       "      <td>1225000</td>\n",
       "    </tr>\n",
       "    <tr>\n",
       "      <th>3</th>\n",
       "      <td>3</td>\n",
       "      <td>Seattle</td>\n",
       "      <td>750.0</td>\n",
       "      <td>4</td>\n",
       "      <td>2</td>\n",
       "      <td>2</td>\n",
       "      <td>furnished</td>\n",
       "      <td>1221500</td>\n",
       "    </tr>\n",
       "    <tr>\n",
       "      <th>4</th>\n",
       "      <td>4</td>\n",
       "      <td>New York</td>\n",
       "      <td>742.0</td>\n",
       "      <td>4</td>\n",
       "      <td>1</td>\n",
       "      <td>2</td>\n",
       "      <td>furnished</td>\n",
       "      <td>1141000</td>\n",
       "    </tr>\n",
       "  </tbody>\n",
       "</table>\n",
       "</div>"
      ],
      "text/plain": [
       "   House ID      City  House Area (sqm)  No. of Bedrooms  No. of Toilets  \\\n",
       "0         0   Chicago             742.0                4               2   \n",
       "1         1    Denver             896.0                4               4   \n",
       "2         2   Chicago             996.0                3               2   \n",
       "3         3   Seattle             750.0                4               2   \n",
       "4         4  New York             742.0                4               1   \n",
       "\n",
       "   Stories Renovation Status  Price ($)  \n",
       "0        3         furnished    1330000  \n",
       "1        4         furnished    1225000  \n",
       "2        2    semi-furnished    1225000  \n",
       "3        2         furnished    1221500  \n",
       "4        2         furnished    1141000  "
      ]
     },
     "execution_count": 13,
     "metadata": {},
     "output_type": "execute_result"
    }
   ],
   "source": [
    "# first 5 rows of dataset \n",
    "housingPrice.head()\n",
    "# we can see that House ID is data that is not useful so we will drop that column"
   ]
  },
  {
   "cell_type": "code",
   "execution_count": 14,
   "id": "7f58e48e-8c13-4e29-9e73-7b1b8b9410d8",
   "metadata": {},
   "outputs": [
    {
     "data": {
      "text/html": [
       "<div>\n",
       "<style scoped>\n",
       "    .dataframe tbody tr th:only-of-type {\n",
       "        vertical-align: middle;\n",
       "    }\n",
       "\n",
       "    .dataframe tbody tr th {\n",
       "        vertical-align: top;\n",
       "    }\n",
       "\n",
       "    .dataframe thead th {\n",
       "        text-align: right;\n",
       "    }\n",
       "</style>\n",
       "<table border=\"1\" class=\"dataframe\">\n",
       "  <thead>\n",
       "    <tr style=\"text-align: right;\">\n",
       "      <th></th>\n",
       "      <th>City</th>\n",
       "      <th>House Area (sqm)</th>\n",
       "      <th>No. of Bedrooms</th>\n",
       "      <th>No. of Toilets</th>\n",
       "      <th>Stories</th>\n",
       "      <th>Renovation Status</th>\n",
       "      <th>Price ($)</th>\n",
       "    </tr>\n",
       "  </thead>\n",
       "  <tbody>\n",
       "    <tr>\n",
       "      <th>0</th>\n",
       "      <td>Chicago</td>\n",
       "      <td>742.0</td>\n",
       "      <td>4</td>\n",
       "      <td>2</td>\n",
       "      <td>3</td>\n",
       "      <td>furnished</td>\n",
       "      <td>1330000</td>\n",
       "    </tr>\n",
       "    <tr>\n",
       "      <th>1</th>\n",
       "      <td>Denver</td>\n",
       "      <td>896.0</td>\n",
       "      <td>4</td>\n",
       "      <td>4</td>\n",
       "      <td>4</td>\n",
       "      <td>furnished</td>\n",
       "      <td>1225000</td>\n",
       "    </tr>\n",
       "    <tr>\n",
       "      <th>2</th>\n",
       "      <td>Chicago</td>\n",
       "      <td>996.0</td>\n",
       "      <td>3</td>\n",
       "      <td>2</td>\n",
       "      <td>2</td>\n",
       "      <td>semi-furnished</td>\n",
       "      <td>1225000</td>\n",
       "    </tr>\n",
       "    <tr>\n",
       "      <th>3</th>\n",
       "      <td>Seattle</td>\n",
       "      <td>750.0</td>\n",
       "      <td>4</td>\n",
       "      <td>2</td>\n",
       "      <td>2</td>\n",
       "      <td>furnished</td>\n",
       "      <td>1221500</td>\n",
       "    </tr>\n",
       "    <tr>\n",
       "      <th>4</th>\n",
       "      <td>New York</td>\n",
       "      <td>742.0</td>\n",
       "      <td>4</td>\n",
       "      <td>1</td>\n",
       "      <td>2</td>\n",
       "      <td>furnished</td>\n",
       "      <td>1141000</td>\n",
       "    </tr>\n",
       "  </tbody>\n",
       "</table>\n",
       "</div>"
      ],
      "text/plain": [
       "       City  House Area (sqm)  No. of Bedrooms  No. of Toilets  Stories  \\\n",
       "0   Chicago             742.0                4               2        3   \n",
       "1    Denver             896.0                4               4        4   \n",
       "2   Chicago             996.0                3               2        2   \n",
       "3   Seattle             750.0                4               2        2   \n",
       "4  New York             742.0                4               1        2   \n",
       "\n",
       "  Renovation Status  Price ($)  \n",
       "0         furnished    1330000  \n",
       "1         furnished    1225000  \n",
       "2    semi-furnished    1225000  \n",
       "3         furnished    1221500  \n",
       "4         furnished    1141000  "
      ]
     },
     "execution_count": 14,
     "metadata": {},
     "output_type": "execute_result"
    }
   ],
   "source": [
    "# drop 'House ID' column \n",
    "housingPrice.drop( ['House ID'], axis=1, inplace=True )\n",
    "housingPrice.head()\n",
    "# verify that it is dropped\n",
    "# now to encode City and Renovation Status column into intergers \n",
    "# this is because model can only train on numerical data "
   ]
  },
  {
   "cell_type": "code",
   "execution_count": 15,
   "id": "18c87678-6afe-41ba-b5e5-0b8c9517afb9",
   "metadata": {},
   "outputs": [
    {
     "name": "stdout",
     "output_type": "stream",
     "text": [
      "After dummy variable encoding for City and label variable encoding for Renovation Status, \n",
      "the new table looks like this (first 5 rows) :\n",
      "    House Area (sqm)  No. of Bedrooms  No. of Toilets  Stories  \\\n",
      "0             742.0                4               2        3   \n",
      "1             896.0                4               4        4   \n",
      "2             996.0                3               2        2   \n",
      "3             750.0                4               2        2   \n",
      "4             742.0                4               1        2   \n",
      "\n",
      "   Renovation Status  Price ($)  City_Boston  City_Chicago  City_Denver  \\\n",
      "0                  2    1330000        False          True        False   \n",
      "1                  2    1225000        False         False         True   \n",
      "2                  1    1225000        False          True        False   \n",
      "3                  2    1221500        False         False        False   \n",
      "4                  2    1141000        False         False        False   \n",
      "\n",
      "   City_New York  City_Seattle  \n",
      "0          False         False  \n",
      "1          False         False  \n",
      "2          False         False  \n",
      "3          False          True  \n",
      "4           True         False  \n"
     ]
    }
   ],
   "source": [
    "# label encoding for 'Renovation Status' column \n",
    "# label encoding used as there is order : unfurnished, semi furnished, furnished --> in the order from least to most likely to increase house pricing\n",
    "housingPrice['Renovation Status'] = housingPrice['Renovation Status'].map({'unfurnished':0, 'semi-furnished':1, 'furnished':2})\n",
    "\n",
    "# one hot encoding for 'City' column as there is no order\n",
    "housingPrice = pd.get_dummies(housingPrice, columns=['City'])\n",
    "\n",
    "# after encoding, check that the columns have been encoded\n",
    "# true or false can be used to train model as True, False can be expressed as 1, 0\n",
    "print('After dummy variable encoding for City and label variable encoding for Renovation Status, \\nthe new table looks like this (first 5 rows) :\\n', housingPrice.head())"
   ]
  },
  {
   "cell_type": "code",
   "execution_count": 16,
   "id": "1e278890-9b41-4015-b3d5-8e918a3be80f",
   "metadata": {},
   "outputs": [],
   "source": [
    "# seperating data into data and targets (X is all the data, y is target)\n",
    "X = housingPrice.drop(['Price ($)'], axis=1).values\n",
    "y = housingPrice['Price ($)'] "
   ]
  },
  {
   "cell_type": "code",
   "execution_count": 17,
   "id": "32d106a0-0d46-4168-8c34-09a836b0e1b0",
   "metadata": {},
   "outputs": [
    {
     "name": "stdout",
     "output_type": "stream",
     "text": [
      "Testing data : (109, 10) (109,)\n"
     ]
    }
   ],
   "source": [
    "# train test split : train and test data \n",
    "X_train, X_test, y_train, y_test = train_test_split(X, y, test_size = 0.2, random_state=42)\n",
    "# X_test and y_test is test data and target\n",
    "\n",
    "print('Testing data :', X_test.shape, y_test.shape)"
   ]
  },
  {
   "cell_type": "code",
   "execution_count": 18,
   "id": "6919728d-df6a-49d1-bb47-f2a0973c8b6a",
   "metadata": {},
   "outputs": [
    {
     "name": "stdout",
     "output_type": "stream",
     "text": [
      "Training data : (348, 10) (348,)\n",
      "Validation data : (88, 10) (88,)\n"
     ]
    }
   ],
   "source": [
    "# train test split : further split the train set into a new train and validation set\n",
    "X_train, X_val, y_train, y_val = train_test_split(X_train, y_train, test_size=0.2, random_state=42)\n",
    "# X_train and y_train is training data and target\n",
    "# X_val and y_test is validatin data and target\n",
    "\n",
    "print('Training data :',X_train.shape, y_train.shape)\n",
    "print('Validation data :', X_val.shape, y_val.shape)"
   ]
  },
  {
   "cell_type": "markdown",
   "id": "89e9841a-bac2-4279-bff5-d5e5d1f59e55",
   "metadata": {},
   "source": [
    "# 5) Machine Learning Models "
   ]
  },
  {
   "cell_type": "code",
   "execution_count": 19,
   "id": "2fb61e72-13e8-44a8-95d4-d051c7693e77",
   "metadata": {},
   "outputs": [
    {
     "name": "stdout",
     "output_type": "stream",
     "text": [
      "Linear Regression :\n",
      "R^2 score = 51.41%,\n",
      "MSE = 13730564468.57,\n",
      "RMSE = 114869.72\n",
      "\n",
      "Lasso :\n",
      "R^2 score = 51.42%,\n",
      "MSE = 13730431190.19,\n",
      "RMSE = 114869.03\n",
      "\n",
      "Decision Tree :\n",
      "R^2 score = 14.24%,\n",
      "MSE = 22920944461.27,\n",
      "RMSE = 149609.69\n",
      "\n",
      "Random Forest :\n",
      "R^2 score = 48.67%,\n",
      "MSE = 14906803945.47,\n",
      "RMSE = 118858.40\n",
      "\n",
      "Gradient Boosting :\n",
      "R^2 score = 49.24%,\n",
      "MSE = 14850580941.49,\n",
      "RMSE = 117508.71\n",
      "\n",
      "KNN :\n",
      "R^2 score = 25.41%,\n",
      "MSE = 21289633618.85,\n",
      "RMSE = 141813.41\n",
      "\n"
     ]
    }
   ],
   "source": [
    "# models \n",
    "models = {\n",
    "    'Linear Regression' : LinearRegression(),\n",
    "    # Reason : Handles linearly separable data well in case the data provides a clear linear relationship to suggest price og housing following a linear pattern.\n",
    "    'Lasso' : Lasso(),\n",
    "    # Reason : Uses L1 regularization technique, which shrinks coefficients of less important features, this helps to simplify the model making it less likely to overfit, especially when there is a lot of features in the dataset like this one.\n",
    "    'Decision Tree' : DecisionTreeRegressor(),\n",
    "    # Reason : Handles non-linear relationships well in case there is no linear pattern to be found that helps with predicting price.\n",
    "    'Random Forest' : RandomForestRegressor(),\n",
    "    # Reason : Reduces overfitting compared to individual tree and has better generalization and accuracy in non-linear data, incase there is overfitting and incase there is non-linear relations.\n",
    "    'Gradient Boosting' : GradientBoostingRegressor(),\n",
    "    # Reason : Works well with both structured and not that structured data, and that it is more accurate but more diffnicult to uderstand.\n",
    "    'KNN' : KNeighborsRegressor()\n",
    "    # Reason : Adapts well to patterns in data to look for patterns in predicting house pricing.\n",
    "}\n",
    "\n",
    "# defining kfold \n",
    "kf = KFold(n_splits=10, shuffle=True, random_state=42)\n",
    "\n",
    "# cross validating models with validation data to compare models as it is more accurate than just.fit()\n",
    "for name, model in models.items():\n",
    "    \n",
    "    # r2 score calculation\n",
    "    # use R^2 to determine how well the model explains the variance in the target variable, in this case, is the house pricing\n",
    "    # higher r^2 score is better\n",
    "    r2score = cross_val_score(model, X_train, y_train, cv=kf)\n",
    "    avg_r2_score = r2score.mean()\n",
    "\n",
    "    # mse score calculation\n",
    "    # use MSE to view how far away the models predictions are from the actual price, lower value means less error\n",
    "    neg_mse_score = cross_val_score(model, X_train, y_train, cv=kf, scoring='neg_mean_squared_error')\n",
    "    mse_score = -neg_mse_score\n",
    "\n",
    "    # rmse score calculation\n",
    "    # RMSE to have a smaller number that is easier to view which does the same thing as MSE, smaller value means less error\n",
    "    rmse_score = np.sqrt(mse_score)\n",
    "\n",
    "    # avg rmse score calculation as rmse is not averaged yet in the 10 folds\n",
    "    avg_rmse_score = rmse_score.mean()\n",
    "\n",
    "    # avg mse_score calculation as mse is not averaged yet in the 10 folds\n",
    "    avg_mse_score = mse_score.mean()\n",
    "\n",
    "    # printing scores\n",
    "    print(f'{name} :\\nR^2 score = {100*avg_r2_score:.2f}%,\\nMSE = {avg_mse_score:.2f},\\nRMSE = {avg_rmse_score:.2f}\\n')"
   ]
  },
  {
   "cell_type": "markdown",
   "id": "783d575b-5912-49b9-b771-c65599dd91fa",
   "metadata": {},
   "source": [
    "# Model Selection \n",
    "Since there is no clear model that performs the best, as some models have very close r2, mse and rmse scores, we cannot say that the model with the highest r2 score, and lowest mse and rmse score is the best model as the difference in performance is only abit and that the best performing model differs in every run. Hence, we will take the top 4 with the lowest RMSE score to tune its hyperparameter and then compare again."
   ]
  },
  {
   "cell_type": "markdown",
   "id": "1c63828f-df0a-41ea-8fb5-83b1256d453f",
   "metadata": {},
   "source": [
    "# 6) Hyperparameter Tuning"
   ]
  },
  {
   "cell_type": "code",
   "execution_count": 20,
   "id": "80ea660b-348a-4175-9258-8b501d05b224",
   "metadata": {},
   "outputs": [],
   "source": [
    "# define hyperparameters to tune\n",
    "# random forest (rf), linear regression (lr), lasso (lasso)\n",
    "# names in bracket above is short form for naming variables for each model\n",
    "params_RF = {\n",
    "    'n_estimators' : [100, 300, 500],\n",
    "    'min_samples_leaf' : [1, 3, 5], \n",
    "    'min_samples_split' : [2, 5, 7], \n",
    "    'bootstrap' : [True, False]             \n",
    "}\n",
    "\n",
    "params_LR = {\n",
    "    'fit_intercept' : [True, False],\n",
    "    'copy_X' : [True, False], \n",
    "    'positive' : [True, False]\n",
    "}\n",
    "\n",
    "params_Lasso = {\n",
    "    'alpha' : np.logspace(-4, 2, 100),\n",
    "    'fit_intercept' : [True, False], \n",
    "    'max_iter' : [50, 100, 200, 300, 400, 500], \n",
    "    'positive' : [True, False],\n",
    "    'copy_X' : [True, False]\n",
    "}\n",
    "\n",
    "params_GB = {\n",
    "    'learning_rate': [0.1, 0.2, 0.3],\n",
    "    'n_estimators': [100, 200, 500],\n",
    "    'max_depth': [3, 5, 7],\n",
    "    'min_samples_leaf': [1, 2, 5, 10],\n",
    "    'min_samples_split': [2, 5, 10],\n",
    "}"
   ]
  },
  {
   "cell_type": "code",
   "execution_count": 21,
   "id": "f4a35ef8-6d8e-467b-9f1e-d710f24b2ad9",
   "metadata": {},
   "outputs": [
    {
     "name": "stdout",
     "output_type": "stream",
     "text": [
      "Fitting 10 folds for each of 54 candidates, totalling 540 fits\n",
      "\n",
      "Random Forest :\n",
      "R^2 score -> 55.09%\n",
      "MSE -> 13847728585.80\n",
      "RMSE -> 117676.37\n"
     ]
    }
   ],
   "source": [
    "# tuning random forest and fitting with train data using best parameters\n",
    "rf = RandomForestRegressor() \n",
    "rf_grid = GridSearchCV(estimator=rf, param_grid=params_RF, cv=10, verbose=3, n_jobs=-1) \n",
    "rf_grid.fit(X_train, y_train)\n",
    "\n",
    "# tuned rf \n",
    "tuned_rf = rf_grid.best_estimator_\n",
    "\n",
    "# predicting based on validation data\n",
    "rf_pred = rf_grid.predict(X_val)\n",
    "\n",
    "# calculating r2, mse and rmse and printing results\n",
    "rf_r2 = r2_score(y_val, rf_pred)\n",
    "rf_mse = mean_squared_error(y_val, rf_pred)\n",
    "rf_rmse = np.sqrt(rf_mse)\n",
    "print(f'\\nRandom Forest :\\nR^2 score -> {100*rf_r2:.2f}%\\nMSE -> {rf_mse:.2f}\\nRMSE -> {rf_rmse:.2f}')"
   ]
  },
  {
   "cell_type": "code",
   "execution_count": 22,
   "id": "e6b7f3f8-a1ef-4ca6-8c0b-3ccef33a5a71",
   "metadata": {},
   "outputs": [
    {
     "name": "stdout",
     "output_type": "stream",
     "text": [
      "Fitting 10 folds for each of 8 candidates, totalling 80 fits\n",
      "\n",
      "Linear Regression :\n",
      "R^2 score -> 47.77%\n",
      "MSE -> 16104670608.51\n",
      "RMSE -> 126904.18\n"
     ]
    }
   ],
   "source": [
    "# tuning linear regression and fitting with train data using best parameters\n",
    "lr = LinearRegression()\n",
    "lr_grid = GridSearchCV(estimator=lr, param_grid=params_LR, cv=10, verbose=3, n_jobs=-1) \n",
    "lr_grid.fit(X_train, y_train)\n",
    "\n",
    "# predicting based on validation data\n",
    "lr_pred = lr_grid.predict(X_val)\n",
    "\n",
    "# calculating r2, mse and rmse and printing results\n",
    "lr_r2 = r2_score(y_val, lr_pred)\n",
    "lr_mse = mean_squared_error(y_val, lr_pred)\n",
    "lr_rmse = np.sqrt(lr_mse)\n",
    "print(f'\\nLinear Regression :\\nR^2 score -> {100*lr_r2:.2f}%\\nMSE -> {lr_mse:.2f}\\nRMSE -> {lr_rmse:.2f}')"
   ]
  },
  {
   "cell_type": "code",
   "execution_count": 23,
   "id": "8206bfb3-9e08-4e43-9aec-d3a0849d8d17",
   "metadata": {},
   "outputs": [
    {
     "name": "stdout",
     "output_type": "stream",
     "text": [
      "Fitting 10 folds for each of 4800 candidates, totalling 48000 fits\n",
      "\n",
      "Lasso :\n",
      "R^2 score -> 47.81%\n",
      "MSE -> 16091944203.14\n",
      "RMSE -> 126854.03\n"
     ]
    }
   ],
   "source": [
    "# tuning lasso and fitting with train data using best parameters\n",
    "lasso = Lasso()\n",
    "lasso_grid = GridSearchCV(estimator=lasso, param_grid=params_Lasso, cv=10, verbose=3, n_jobs=-1) \n",
    "lasso_grid.fit(X_train, y_train)\n",
    "\n",
    "# predicting based on validation data\n",
    "lasso_pred = lasso_grid.predict(X_val)\n",
    "\n",
    "# calculating r2, mse and rmse and printing results\n",
    "lasso_r2 = r2_score(y_val, lasso_pred)\n",
    "lasso_mse = mean_squared_error(y_val, lasso_pred)\n",
    "lasso_rmse = np.sqrt(lasso_mse)\n",
    "print(f'\\nLasso :\\nR^2 score -> {100*lasso_r2:.2f}%\\nMSE -> {lasso_mse:.2f}\\nRMSE -> {lasso_rmse:.2f}')"
   ]
  },
  {
   "cell_type": "code",
   "execution_count": 24,
   "id": "a04108aa-3021-41a4-93c7-96e2585e0628",
   "metadata": {},
   "outputs": [
    {
     "name": "stdout",
     "output_type": "stream",
     "text": [
      "Fitting 10 folds for each of 324 candidates, totalling 3240 fits\n",
      "\n",
      "Gradient Boosting :\n",
      "R^2 score -> 49.10%\n",
      "MSE -> 15693818495.20\n",
      "RMSE -> 125274.97\n"
     ]
    }
   ],
   "source": [
    "# tuning gradient boosting and fitting with train data using best parameters\n",
    "gb = GradientBoostingRegressor()\n",
    "gb_grid = GridSearchCV(estimator=gb, param_grid=params_GB, cv=10, verbose=3, n_jobs=-1) \n",
    "gb_grid.fit(X_train, y_train)\n",
    "\n",
    "# predicting based on validation data\n",
    "gb_pred = gb_grid.predict(X_val)\n",
    "\n",
    "# calculating r2, mse and rmse and printing results\n",
    "gb_r2 = r2_score(y_val, gb_pred)\n",
    "gb_mse = mean_squared_error(y_val, gb_pred)\n",
    "gb_rmse = np.sqrt(gb_mse)\n",
    "print(f'\\nGradient Boosting :\\nR^2 score -> {100*gb_r2:.2f}%\\nMSE -> {gb_mse:.2f}\\nRMSE -> {gb_rmse:.2f}')"
   ]
  },
  {
   "cell_type": "code",
   "execution_count": 25,
   "id": "45ff3542-1c5e-4862-adae-df3b080211e0",
   "metadata": {},
   "outputs": [],
   "source": [
    "# merging training data with validation data\n",
    "# this makes the training data even bigger and with more data, the model can trained better \n",
    "X_train = np.concatenate((X_train, X_val))\n",
    "y_train = np.concatenate((y_train, y_val))\n",
    "# we will then train the final model with this new training data and test it using the testing data"
   ]
  },
  {
   "cell_type": "markdown",
   "id": "498b5a77-4da0-46f2-b7e1-df2952862288",
   "metadata": {},
   "source": [
    "# 7) Final 2 Model's Performance"
   ]
  },
  {
   "cell_type": "code",
   "execution_count": 27,
   "id": "23251b54-8a10-45db-ada1-497f144efc94",
   "metadata": {},
   "outputs": [
    {
     "name": "stdout",
     "output_type": "stream",
     "text": [
      "Model Performance (Lasso)\n",
      "\n",
      "R^2 Score = 51.89%\n",
      "MSE Score = 24317404302.69\n",
      "RMSE Score = 155940.39\n"
     ]
    }
   ],
   "source": [
    "# evaluating Lasso on test data\n",
    "best_model = lasso_grid.best_estimator_ \n",
    "best_model.fit(X_train, y_train)\n",
    "bm_pred = best_model.predict(X_test)\n",
    "\n",
    "# bm r2, mse and rmse score\n",
    "bm_r2 = r2_score(y_test, bm_pred)\n",
    "bm_mse = mean_squared_error(y_test, bm_pred)\n",
    "bm_rmse = math.sqrt(bm_mse)\n",
    "\n",
    "# printing evaluation\n",
    "print('Model Performance (Lasso)\\n')\n",
    "print(f'R^2 Score = {100*bm_r2:.2f}%')\n",
    "print('MSE Score = {:.2f}'.format(bm_mse))\n",
    "print('RMSE Score = {:.2f}'.format(bm_rmse))"
   ]
  },
  {
   "cell_type": "code",
   "execution_count": 28,
   "id": "f149f65e-c77e-45e8-85d8-3b222d374fd0",
   "metadata": {},
   "outputs": [
    {
     "name": "stdout",
     "output_type": "stream",
     "text": [
      "Model Performance (Random Forest)\n",
      "\n",
      "R^2 Score = 49.30%\n",
      "MSE Score = 25626498225.69\n",
      "RMSE Score = 160082.79\n"
     ]
    }
   ],
   "source": [
    "# evaluating Random Forest on test data \n",
    "best_model = rf_grid.best_estimator_ \n",
    "best_model.fit(X_train, y_train)\n",
    "bm_pred = best_model.predict(X_test)\n",
    "\n",
    "# bm r2, mse and rmse score\n",
    "bm_r2 = r2_score(y_test, bm_pred)\n",
    "bm_mse = mean_squared_error(y_test, bm_pred)\n",
    "bm_rmse = math.sqrt(bm_mse)\n",
    "\n",
    "# printing evaluation\n",
    "print('Model Performance (Random Forest)\\n')\n",
    "print(f'R^2 Score = {100*bm_r2:.2f}%')\n",
    "print('MSE Score = {:.2f}'.format(bm_mse))\n",
    "print('RMSE Score = {:.2f}'.format(bm_rmse))"
   ]
  },
  {
   "cell_type": "markdown",
   "id": "6257c32c-4a0c-4f9b-8b48-bd9ed7886af9",
   "metadata": {},
   "source": [
    "# Final Model \n",
    "Lasso will be chosen as the final model because Lasso has a higher R^2 value and a smaller RMSE compared to Random Forest. This model will be used to compare with a dummy baseline."
   ]
  },
  {
   "cell_type": "markdown",
   "id": "03964773-d408-42fb-b515-51ea3aed9fa9",
   "metadata": {},
   "source": [
    "# 8) Dummy"
   ]
  },
  {
   "cell_type": "code",
   "execution_count": 26,
   "id": "840b0b1e-751e-4303-8a8f-72d47e9c7c49",
   "metadata": {},
   "outputs": [
    {
     "name": "stdout",
     "output_type": "stream",
     "text": [
      "DummyRegressor :\n",
      "R^2 score -> -1.79%\n",
      "MSE -> 51451768522.26\n",
      "RMSE -> 226829.82\n"
     ]
    }
   ],
   "source": [
    "# dummy regressor for comparison with final model\n",
    "dummy = DummyRegressor()\n",
    "dummy.fit(X_train, y_train)\n",
    "dummy_pred = dummy.predict(X_test)\n",
    "\n",
    "# r^2 score, mse and rmse of dummy\n",
    "dummy_r2 = r2_score(y_test, dummy_pred)\n",
    "dummy_mse = mean_squared_error(y_test, dummy_pred)\n",
    "dummy_rmse = np.sqrt(dummy_mse)\n",
    "\n",
    "# printing results\n",
    "print(f'DummyRegressor :\\nR^2 score -> {100*dummy_r2:.2f}%\\nMSE -> {dummy_mse:.2f}\\nRMSE -> {dummy_rmse:.2f}')"
   ]
  },
  {
   "cell_type": "markdown",
   "id": "67d2376e-68bb-4cb1-84b8-079cd96c153f",
   "metadata": {},
   "source": [
    "# Conclusion \n",
    "In conclusion, the best model to be used to predict housing price based on the data given is Lasso. When compared to the dummy, Lasso did way much more better as the dummy constantly had a negative R-square score with a large RMSE. The dummy always predicts the mean of all the prices hence it performed very badly with the large variation of prices of the house pricing."
   ]
  }
 ],
 "metadata": {
  "kernelspec": {
   "display_name": "Python 3 (ipykernel)",
   "language": "python",
   "name": "python3"
  },
  "language_info": {
   "codemirror_mode": {
    "name": "ipython",
    "version": 3
   },
   "file_extension": ".py",
   "mimetype": "text/x-python",
   "name": "python",
   "nbconvert_exporter": "python",
   "pygments_lexer": "ipython3",
   "version": "3.12.4"
  }
 },
 "nbformat": 4,
 "nbformat_minor": 5
}
