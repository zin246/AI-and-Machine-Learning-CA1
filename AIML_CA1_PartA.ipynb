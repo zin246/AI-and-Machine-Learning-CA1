{
 "cells": [
  {
   "cell_type": "markdown",
   "id": "8e35b9b8-2652-41b4-b907-4ee9e4ccd921",
   "metadata": {},
   "source": [
    "# AIML CA1 Part A "
   ]
  },
  {
   "cell_type": "markdown",
   "id": "27da840d-aa38-4968-83f0-20371b34322d",
   "metadata": {},
   "source": [
    "# Imports"
   ]
  },
  {
   "cell_type": "code",
   "execution_count": 2,
   "id": "a210ad1d-4a67-4839-af1e-ed43230bd008",
   "metadata": {},
   "outputs": [],
   "source": [
    "import pandas as pd\n",
    "import numpy as np\n",
    "import sklearn\n",
    "import matplotlib.pyplot as plt\n",
    "from sklearn.model_selection import train_test_split, GridSearchCV, cross_val_score, KFold\n",
    "from sklearn.metrics import classification_report\n",
    "from sklearn.metrics import confusion_matrix, ConfusionMatrixDisplay\n",
    "from sklearn.metrics import f1_score, recall_score\n",
    "\n",
    "# ignore warnings \n",
    "import warnings\n",
    "warnings.filterwarnings(\"ignore\")\n",
    "\n",
    "# random state \n",
    "import random\n",
    "random.seed(43)\n",
    "\n",
    "# importing models \n",
    "from sklearn.linear_model import LogisticRegression\n",
    "from sklearn.tree import DecisionTreeClassifier\n",
    "from sklearn.ensemble import RandomForestClassifier\n",
    "from sklearn.neighbors import KNeighborsClassifier\n",
    "from sklearn.svm import SVC\n",
    "from sklearn.ensemble import GradientBoostingClassifier\n",
    "\n",
    "# dummy for comparison with final model\n",
    "from sklearn.dummy import DummyClassifier"
   ]
  },
  {
   "cell_type": "markdown",
   "id": "c48ecbed-bd23-475e-8179-b104c21d18f9",
   "metadata": {},
   "source": [
    "# 1) Loading Data"
   ]
  },
  {
   "cell_type": "code",
   "execution_count": 3,
   "id": "37fd8e5d-0d34-473c-a914-82e6b4ab06bc",
   "metadata": {},
   "outputs": [],
   "source": [
    "# import factory_data.csv as factoryData\n",
    "factoryData = pd.read_csv('factory_data.csv')"
   ]
  },
  {
   "cell_type": "markdown",
   "id": "cff35029-17ee-4edf-b153-eaf59729d971",
   "metadata": {},
   "source": [
    "# 2) Analyzing Data"
   ]
  },
  {
   "cell_type": "code",
   "execution_count": 3,
   "id": "402b814b-1f5c-4829-91a5-f6d0a1f2b11e",
   "metadata": {},
   "outputs": [
    {
     "name": "stdout",
     "output_type": "stream",
     "text": [
      "<class 'pandas.core.frame.DataFrame'>\n",
      "RangeIndex: 20000 entries, 0 to 19999\n",
      "Data columns (total 9 columns):\n",
      " #   Column                Non-Null Count  Dtype  \n",
      "---  ------                --------------  -----  \n",
      " 0   Unique ID             20000 non-null  int64  \n",
      " 1   Product ID            20000 non-null  object \n",
      " 2   Quality               19009 non-null  object \n",
      " 3   Ambient T (C)         20000 non-null  float64\n",
      " 4   Process T (C)         19600 non-null  float64\n",
      " 5   Rotation Speed (rpm)  18812 non-null  float64\n",
      " 6   Torque (Nm)           20000 non-null  float64\n",
      " 7   Tool Wear (min)       20000 non-null  int64  \n",
      " 8   Machine Status        20000 non-null  int64  \n",
      "dtypes: float64(4), int64(3), object(2)\n",
      "memory usage: 1.4+ MB\n"
     ]
    }
   ],
   "source": [
    "# show the dataset basic info\n",
    "factoryData.info()\n",
    "# we see that not all columns are in either int or float, so we need to encode them later on"
   ]
  },
  {
   "cell_type": "code",
   "execution_count": 4,
   "id": "a83302f6-f907-4cb6-bb07-6f40a9c69b2d",
   "metadata": {},
   "outputs": [
    {
     "data": {
      "text/html": [
       "<div>\n",
       "<style scoped>\n",
       "    .dataframe tbody tr th:only-of-type {\n",
       "        vertical-align: middle;\n",
       "    }\n",
       "\n",
       "    .dataframe tbody tr th {\n",
       "        vertical-align: top;\n",
       "    }\n",
       "\n",
       "    .dataframe thead th {\n",
       "        text-align: right;\n",
       "    }\n",
       "</style>\n",
       "<table border=\"1\" class=\"dataframe\">\n",
       "  <thead>\n",
       "    <tr style=\"text-align: right;\">\n",
       "      <th></th>\n",
       "      <th>Unique ID</th>\n",
       "      <th>Ambient T (C)</th>\n",
       "      <th>Process T (C)</th>\n",
       "      <th>Rotation Speed (rpm)</th>\n",
       "      <th>Torque (Nm)</th>\n",
       "      <th>Tool Wear (min)</th>\n",
       "      <th>Machine Status</th>\n",
       "    </tr>\n",
       "  </thead>\n",
       "  <tbody>\n",
       "    <tr>\n",
       "      <th>count</th>\n",
       "      <td>20000.000000</td>\n",
       "      <td>20000.000000</td>\n",
       "      <td>19600.000000</td>\n",
       "      <td>18812.000000</td>\n",
       "      <td>20000.000000</td>\n",
       "      <td>20000.000000</td>\n",
       "      <td>20000.000000</td>\n",
       "    </tr>\n",
       "    <tr>\n",
       "      <th>mean</th>\n",
       "      <td>10000.500000</td>\n",
       "      <td>26.904930</td>\n",
       "      <td>36.904291</td>\n",
       "      <td>1538.795397</td>\n",
       "      <td>39.986910</td>\n",
       "      <td>107.951000</td>\n",
       "      <td>0.033900</td>\n",
       "    </tr>\n",
       "    <tr>\n",
       "      <th>std</th>\n",
       "      <td>5773.647028</td>\n",
       "      <td>2.000834</td>\n",
       "      <td>1.483647</td>\n",
       "      <td>178.674963</td>\n",
       "      <td>9.968684</td>\n",
       "      <td>63.652555</td>\n",
       "      <td>0.180976</td>\n",
       "    </tr>\n",
       "    <tr>\n",
       "      <th>min</th>\n",
       "      <td>1.000000</td>\n",
       "      <td>22.150000</td>\n",
       "      <td>32.550000</td>\n",
       "      <td>1168.000000</td>\n",
       "      <td>3.800000</td>\n",
       "      <td>0.000000</td>\n",
       "      <td>0.000000</td>\n",
       "    </tr>\n",
       "    <tr>\n",
       "      <th>25%</th>\n",
       "      <td>5000.750000</td>\n",
       "      <td>25.250000</td>\n",
       "      <td>35.750000</td>\n",
       "      <td>1423.000000</td>\n",
       "      <td>33.200000</td>\n",
       "      <td>53.000000</td>\n",
       "      <td>0.000000</td>\n",
       "    </tr>\n",
       "    <tr>\n",
       "      <th>50%</th>\n",
       "      <td>10000.500000</td>\n",
       "      <td>26.950000</td>\n",
       "      <td>36.950000</td>\n",
       "      <td>1503.000000</td>\n",
       "      <td>40.100000</td>\n",
       "      <td>108.000000</td>\n",
       "      <td>0.000000</td>\n",
       "    </tr>\n",
       "    <tr>\n",
       "      <th>75%</th>\n",
       "      <td>15000.250000</td>\n",
       "      <td>28.450000</td>\n",
       "      <td>37.950000</td>\n",
       "      <td>1613.000000</td>\n",
       "      <td>46.800000</td>\n",
       "      <td>162.000000</td>\n",
       "      <td>0.000000</td>\n",
       "    </tr>\n",
       "    <tr>\n",
       "      <th>max</th>\n",
       "      <td>20000.000000</td>\n",
       "      <td>31.450000</td>\n",
       "      <td>40.750000</td>\n",
       "      <td>2886.000000</td>\n",
       "      <td>76.600000</td>\n",
       "      <td>253.000000</td>\n",
       "      <td>1.000000</td>\n",
       "    </tr>\n",
       "  </tbody>\n",
       "</table>\n",
       "</div>"
      ],
      "text/plain": [
       "          Unique ID  Ambient T (C)  Process T (C)  Rotation Speed (rpm)  \\\n",
       "count  20000.000000   20000.000000   19600.000000          18812.000000   \n",
       "mean   10000.500000      26.904930      36.904291           1538.795397   \n",
       "std     5773.647028       2.000834       1.483647            178.674963   \n",
       "min        1.000000      22.150000      32.550000           1168.000000   \n",
       "25%     5000.750000      25.250000      35.750000           1423.000000   \n",
       "50%    10000.500000      26.950000      36.950000           1503.000000   \n",
       "75%    15000.250000      28.450000      37.950000           1613.000000   \n",
       "max    20000.000000      31.450000      40.750000           2886.000000   \n",
       "\n",
       "        Torque (Nm)  Tool Wear (min)  Machine Status  \n",
       "count  20000.000000     20000.000000    20000.000000  \n",
       "mean      39.986910       107.951000        0.033900  \n",
       "std        9.968684        63.652555        0.180976  \n",
       "min        3.800000         0.000000        0.000000  \n",
       "25%       33.200000        53.000000        0.000000  \n",
       "50%       40.100000       108.000000        0.000000  \n",
       "75%       46.800000       162.000000        0.000000  \n",
       "max       76.600000       253.000000        1.000000  "
      ]
     },
     "execution_count": 4,
     "metadata": {},
     "output_type": "execute_result"
    }
   ],
   "source": [
    "# display basic statistics\n",
    "factoryData.describe()\n",
    "# we see that there is 20000 rows of data, and some columns have less than that suggesting missing data in some columns"
   ]
  },
  {
   "cell_type": "code",
   "execution_count": 5,
   "id": "0244f933-d85c-4d9a-91ed-28bd94bbcdad",
   "metadata": {},
   "outputs": [
    {
     "name": "stdout",
     "output_type": "stream",
     "text": [
      "Shape of data :  (20000, 9)\n"
     ]
    }
   ],
   "source": [
    "# check number of data using .shape\n",
    "print('Shape of data : ', factoryData.shape)\n",
    "# checked that there is indeed 20000 rows of data with 9 columns"
   ]
  },
  {
   "cell_type": "code",
   "execution_count": 6,
   "id": "d35cd482-676f-450d-8bef-0fa96af486dc",
   "metadata": {},
   "outputs": [
    {
     "name": "stdout",
     "output_type": "stream",
     "text": [
      "Machine Status\n",
      "0    19322\n",
      "1      678\n",
      "Name: count, dtype: int64\n"
     ]
    }
   ],
   "source": [
    "# display the distribution of 0s and 1s in target which is Machine Status\n",
    "print(factoryData['Machine Status'].value_counts())\n",
    "# number of 0s is too much compared to number of 1s, data is heavily skewed towards 0s"
   ]
  },
  {
   "cell_type": "markdown",
   "id": "1fb46f86-d2c1-473a-99ec-2a2101f9000c",
   "metadata": {},
   "source": [
    "# 3) Plotting Graphs "
   ]
  },
  {
   "cell_type": "code",
   "execution_count": 22,
   "id": "4fb141ed-3b46-4b89-a195-8b0bfe64b36c",
   "metadata": {},
   "outputs": [
    {
     "data": {
      "text/plain": [
       "Text(0.5, 1.0, 'Relatioship between Ambient Temperature and Ambient Temperature')"
      ]
     },
     "execution_count": 22,
     "metadata": {},
     "output_type": "execute_result"
    },
    {
     "data": {
      "image/png": "[encoded data removed]",
      "text/plain": [
       "<Figure size 800x1800 with 5 Axes>"
      ]
     },
     "metadata": {},
     "output_type": "display_data"
    }
   ],
   "source": [
    "# scatter plots to see which feature impacts the machine status the most\n",
    "\n",
    "# subplots\n",
    "fig, axs = plt.subplots(5, 1, figsize=(8, 18))\n",
    "\n",
    "# plot status with tool wear \n",
    "axs[0].scatter(factoryData['Tool Wear (min)'], factoryData['Machine Status'], s=8, color='blue')\n",
    "\n",
    "# plot status with tool wear \n",
    "axs[1].scatter(factoryData['Torque (Nm)'], factoryData['Machine Status'], s=8, color='green')\n",
    "\n",
    "# plot status with tool wear \n",
    "axs[2].scatter(factoryData['Rotation Speed (rpm)'], factoryData['Machine Status'], s=8, color='red')\n",
    "\n",
    "# plot status with tool wear \n",
    "axs[3].scatter(factoryData['Process T (C)'], factoryData['Machine Status'], s=8, color='darkgreen')\n",
    "plt.title('Relatioship between Process Temperature and Ambient Temperature')\n",
    "\n",
    "# plot status with tool wear \n",
    "axs[4].scatter(factoryData['Ambient T (C)'], factoryData['Machine Status'], s=8, color='crimson')\n",
    "\n",
    "# we can see that the two features that impact the machine status the most is the second and third scatter plot \n",
    "\n",
    "# second : torque \n",
    "# we can see that there is the highest concentration of dots in y=1 when torque is roughly above 45 \n",
    "# this means that higher torque above 45 will lead to machines having a higher chance to work \n",
    "\n",
    "# third : rotation speed\n",
    "# we can see that there is a highest concentration of dots in y=1 when rotation speed is  from 0 to roughly 1600\n",
    "# this means that lower rotation speed up to 1600 will lead to machines having a higher chance to work \n",
    "\n",
    "# the other graphs with different features do not show relationships so they are less important factors contributing to whether the machines work or not. "
   ]
  },
  {
   "cell_type": "code",
   "execution_count": 7,
   "id": "d7f27dac-3d6c-4b3a-be78-443c217f241f",
   "metadata": {},
   "outputs": [
    {
     "data": {
      "image/png": "[encoded data removed]",
      "text/plain": [
       "<Figure size 640x480 with 1 Axes>"
      ]
     },
     "metadata": {},
     "output_type": "display_data"
    }
   ],
   "source": [
    "# scatterplot to show relationship between process and ambient temperature\n",
    "plt.scatter(factoryData['Ambient T (C)'], factoryData['Process T (C)'], s=1, color='green')\n",
    "plt.title('Relatioship between Process Temperature and Ambient Temperature')\n",
    "plt.xlabel('Ambient Tempreture')\n",
    "plt.ylabel('Process Temperature')\n",
    "plt.show()\n",
    "# we can see from the scatter plot that there is an increasing trend \n",
    "# as the ambient temperature increases, the process temperature increases as well "
   ]
  },
  {
   "cell_type": "code",
   "execution_count": 8,
   "id": "5523fad4-d0de-4e7b-ba93-67b483d8e100",
   "metadata": {},
   "outputs": [
    {
     "data": {
      "image/png": "[encoded data removed]",
      "text/plain": [
       "<Figure size 640x480 with 1 Axes>"
      ]
     },
     "metadata": {},
     "output_type": "display_data"
    }
   ],
   "source": [
    "# line plot to view relationship between rotation speed and torque\n",
    "plt.plot(factoryData['Torque (Nm)'], factoryData['Rotation Speed (rpm)'], color='red')\n",
    "plt.title('Relatioship between Rotation Speed and Torque')\n",
    "plt.xlabel('Torque (Nm)')\n",
    "plt.ylabel('Rotation Speed (rpm)')\n",
    "plt.show()\n",
    "# we can see that it shows a decreasing trend\n",
    "# as the rotation speed increases, the torque decreases \n",
    "# similarly, as torque increases, rotation speed decreases"
   ]
  },
  {
   "cell_type": "code",
   "execution_count": 9,
   "id": "e6957539-110b-4476-a1cf-55602c733afd",
   "metadata": {},
   "outputs": [
    {
     "data": {
      "image/png": "[encoded data removed]",
      "text/plain": [
       "<Figure size 640x480 with 1 Axes>"
      ]
     },
     "metadata": {},
     "output_type": "display_data"
    }
   ],
   "source": [
    "# histogram to view comparison between number of 0s and 1s\n",
    "plt.hist(factoryData['Machine Status'])\n",
    "plt.title('Number of 0s and 1s in Machine Status column')\n",
    "plt.xlabel('Machine Status')\n",
    "plt.ylabel('Number of data')\n",
    "plt.show()\n",
    "# we can see that there is way too many 0s as compared to 1s \n",
    "# this suggests that accuracy cannot be used to compare and determine model performance\n",
    "# because since there are many 0s, a model can get high accuracy just by predicting all to be 0s"
   ]
  },
  {
   "cell_type": "markdown",
   "id": "b5c2b5f3-37a0-4d93-a1f9-40973f614fb7",
   "metadata": {},
   "source": [
    "# 4) Preparing Data"
   ]
  },
  {
   "cell_type": "code",
   "execution_count": 10,
   "id": "26dffb30-d04f-43c1-ae79-ab75b5617bc4",
   "metadata": {},
   "outputs": [
    {
     "data": {
      "text/plain": [
       "Unique ID                  0\n",
       "Product ID                 0\n",
       "Quality                  991\n",
       "Ambient T (C)              0\n",
       "Process T (C)            400\n",
       "Rotation Speed (rpm)    1188\n",
       "Torque (Nm)                0\n",
       "Tool Wear (min)            0\n",
       "Machine Status             0\n",
       "dtype: int64"
      ]
     },
     "execution_count": 10,
     "metadata": {},
     "output_type": "execute_result"
    }
   ],
   "source": [
    "# view number of missing data \n",
    "factoryData.isnull().sum()"
   ]
  },
  {
   "cell_type": "code",
   "execution_count": 11,
   "id": "0dc2ce8d-3cc9-4b91-b52f-a991c4707493",
   "metadata": {},
   "outputs": [
    {
     "data": {
      "text/plain": [
       "Unique ID               0\n",
       "Product ID              0\n",
       "Quality                 0\n",
       "Ambient T (C)           0\n",
       "Process T (C)           0\n",
       "Rotation Speed (rpm)    0\n",
       "Torque (Nm)             0\n",
       "Tool Wear (min)         0\n",
       "Machine Status          0\n",
       "dtype: int64"
      ]
     },
     "execution_count": 11,
     "metadata": {},
     "output_type": "execute_result"
    }
   ],
   "source": [
    "# remove rows with missing data \n",
    "factoryData = factoryData.dropna()\n",
    "factoryData.isnull().sum()\n",
    "# after removing rows with missing data, we can double check again by isnull().sum()\n",
    "# all the missing data has been successfully removed"
   ]
  },
  {
   "cell_type": "code",
   "execution_count": 12,
   "id": "23f092e2-aef7-48a7-a1c4-a3bf996fbb2d",
   "metadata": {
    "scrolled": true
   },
   "outputs": [
    {
     "data": {
      "text/html": [
       "<div>\n",
       "<style scoped>\n",
       "    .dataframe tbody tr th:only-of-type {\n",
       "        vertical-align: middle;\n",
       "    }\n",
       "\n",
       "    .dataframe tbody tr th {\n",
       "        vertical-align: top;\n",
       "    }\n",
       "\n",
       "    .dataframe thead th {\n",
       "        text-align: right;\n",
       "    }\n",
       "</style>\n",
       "<table border=\"1\" class=\"dataframe\">\n",
       "  <thead>\n",
       "    <tr style=\"text-align: right;\">\n",
       "      <th></th>\n",
       "      <th>Unique ID</th>\n",
       "      <th>Product ID</th>\n",
       "      <th>Quality</th>\n",
       "      <th>Ambient T (C)</th>\n",
       "      <th>Process T (C)</th>\n",
       "      <th>Rotation Speed (rpm)</th>\n",
       "      <th>Torque (Nm)</th>\n",
       "      <th>Tool Wear (min)</th>\n",
       "      <th>Machine Status</th>\n",
       "    </tr>\n",
       "  </thead>\n",
       "  <tbody>\n",
       "    <tr>\n",
       "      <th>0</th>\n",
       "      <td>1</td>\n",
       "      <td>K12965</td>\n",
       "      <td>M</td>\n",
       "      <td>24.95</td>\n",
       "      <td>35.45</td>\n",
       "      <td>1551.0</td>\n",
       "      <td>42.8</td>\n",
       "      <td>0</td>\n",
       "      <td>0</td>\n",
       "    </tr>\n",
       "    <tr>\n",
       "      <th>1</th>\n",
       "      <td>2</td>\n",
       "      <td>Z62710</td>\n",
       "      <td>L</td>\n",
       "      <td>25.05</td>\n",
       "      <td>35.55</td>\n",
       "      <td>1408.0</td>\n",
       "      <td>46.3</td>\n",
       "      <td>3</td>\n",
       "      <td>0</td>\n",
       "    </tr>\n",
       "    <tr>\n",
       "      <th>2</th>\n",
       "      <td>3</td>\n",
       "      <td>T20224</td>\n",
       "      <td>L</td>\n",
       "      <td>24.95</td>\n",
       "      <td>35.35</td>\n",
       "      <td>1498.0</td>\n",
       "      <td>49.4</td>\n",
       "      <td>5</td>\n",
       "      <td>0</td>\n",
       "    </tr>\n",
       "    <tr>\n",
       "      <th>3</th>\n",
       "      <td>4</td>\n",
       "      <td>Z33024</td>\n",
       "      <td>L</td>\n",
       "      <td>25.05</td>\n",
       "      <td>35.45</td>\n",
       "      <td>1433.0</td>\n",
       "      <td>39.5</td>\n",
       "      <td>7</td>\n",
       "      <td>0</td>\n",
       "    </tr>\n",
       "    <tr>\n",
       "      <th>4</th>\n",
       "      <td>5</td>\n",
       "      <td>Z52839</td>\n",
       "      <td>L</td>\n",
       "      <td>25.05</td>\n",
       "      <td>35.55</td>\n",
       "      <td>1408.0</td>\n",
       "      <td>40.0</td>\n",
       "      <td>9</td>\n",
       "      <td>0</td>\n",
       "    </tr>\n",
       "  </tbody>\n",
       "</table>\n",
       "</div>"
      ],
      "text/plain": [
       "   Unique ID Product ID Quality  Ambient T (C)  Process T (C)  \\\n",
       "0          1     K12965       M          24.95          35.45   \n",
       "1          2     Z62710       L          25.05          35.55   \n",
       "2          3     T20224       L          24.95          35.35   \n",
       "3          4     Z33024       L          25.05          35.45   \n",
       "4          5     Z52839       L          25.05          35.55   \n",
       "\n",
       "   Rotation Speed (rpm)  Torque (Nm)  Tool Wear (min)  Machine Status  \n",
       "0                1551.0         42.8                0               0  \n",
       "1                1408.0         46.3                3               0  \n",
       "2                1498.0         49.4                5               0  \n",
       "3                1433.0         39.5                7               0  \n",
       "4                1408.0         40.0                9               0  "
      ]
     },
     "execution_count": 12,
     "metadata": {},
     "output_type": "execute_result"
    }
   ],
   "source": [
    "# first 5 rows of the dataset\n",
    "factoryData.head()\n",
    "# some columns of data are not useful \n",
    "# Unique ID and Product ID are used to identify the machine and do not affect Machine Status \n",
    "# we can remove these two rows of data such that it does not affect model performance "
   ]
  },
  {
   "cell_type": "code",
   "execution_count": 13,
   "id": "472019dd-f690-4e3e-9402-4e2f6e13213a",
   "metadata": {},
   "outputs": [
    {
     "data": {
      "text/html": [
       "<div>\n",
       "<style scoped>\n",
       "    .dataframe tbody tr th:only-of-type {\n",
       "        vertical-align: middle;\n",
       "    }\n",
       "\n",
       "    .dataframe tbody tr th {\n",
       "        vertical-align: top;\n",
       "    }\n",
       "\n",
       "    .dataframe thead th {\n",
       "        text-align: right;\n",
       "    }\n",
       "</style>\n",
       "<table border=\"1\" class=\"dataframe\">\n",
       "  <thead>\n",
       "    <tr style=\"text-align: right;\">\n",
       "      <th></th>\n",
       "      <th>Quality</th>\n",
       "      <th>Ambient T (C)</th>\n",
       "      <th>Process T (C)</th>\n",
       "      <th>Rotation Speed (rpm)</th>\n",
       "      <th>Torque (Nm)</th>\n",
       "      <th>Tool Wear (min)</th>\n",
       "      <th>Machine Status</th>\n",
       "    </tr>\n",
       "  </thead>\n",
       "  <tbody>\n",
       "    <tr>\n",
       "      <th>0</th>\n",
       "      <td>M</td>\n",
       "      <td>24.95</td>\n",
       "      <td>35.45</td>\n",
       "      <td>1551.0</td>\n",
       "      <td>42.8</td>\n",
       "      <td>0</td>\n",
       "      <td>0</td>\n",
       "    </tr>\n",
       "    <tr>\n",
       "      <th>1</th>\n",
       "      <td>L</td>\n",
       "      <td>25.05</td>\n",
       "      <td>35.55</td>\n",
       "      <td>1408.0</td>\n",
       "      <td>46.3</td>\n",
       "      <td>3</td>\n",
       "      <td>0</td>\n",
       "    </tr>\n",
       "    <tr>\n",
       "      <th>2</th>\n",
       "      <td>L</td>\n",
       "      <td>24.95</td>\n",
       "      <td>35.35</td>\n",
       "      <td>1498.0</td>\n",
       "      <td>49.4</td>\n",
       "      <td>5</td>\n",
       "      <td>0</td>\n",
       "    </tr>\n",
       "    <tr>\n",
       "      <th>3</th>\n",
       "      <td>L</td>\n",
       "      <td>25.05</td>\n",
       "      <td>35.45</td>\n",
       "      <td>1433.0</td>\n",
       "      <td>39.5</td>\n",
       "      <td>7</td>\n",
       "      <td>0</td>\n",
       "    </tr>\n",
       "    <tr>\n",
       "      <th>4</th>\n",
       "      <td>L</td>\n",
       "      <td>25.05</td>\n",
       "      <td>35.55</td>\n",
       "      <td>1408.0</td>\n",
       "      <td>40.0</td>\n",
       "      <td>9</td>\n",
       "      <td>0</td>\n",
       "    </tr>\n",
       "  </tbody>\n",
       "</table>\n",
       "</div>"
      ],
      "text/plain": [
       "  Quality  Ambient T (C)  Process T (C)  Rotation Speed (rpm)  Torque (Nm)  \\\n",
       "0       M          24.95          35.45                1551.0         42.8   \n",
       "1       L          25.05          35.55                1408.0         46.3   \n",
       "2       L          24.95          35.35                1498.0         49.4   \n",
       "3       L          25.05          35.45                1433.0         39.5   \n",
       "4       L          25.05          35.55                1408.0         40.0   \n",
       "\n",
       "   Tool Wear (min)  Machine Status  \n",
       "0                0               0  \n",
       "1                3               0  \n",
       "2                5               0  \n",
       "3                7               0  \n",
       "4                9               0  "
      ]
     },
     "execution_count": 13,
     "metadata": {},
     "output_type": "execute_result"
    }
   ],
   "source": [
    "# drop 'unique ID' and 'Product ID' columns \n",
    "factoryData.drop(['Unique ID', 'Product ID'], axis=1, inplace=True)\n",
    "\n",
    "# check head to see changes\n",
    "factoryData.head()\n",
    "# we can confirm that the columns have been dropped \n",
    "\n",
    "# we realise that the Quality column of data is in string form \n",
    "# only float or int can be used to train models \n",
    "# hence we need to encode it next"
   ]
  },
  {
   "cell_type": "code",
   "execution_count": 14,
   "id": "edc1b55f-255d-4fa1-94fc-e3ce941bdfc8",
   "metadata": {},
   "outputs": [
    {
     "data": {
      "text/html": [
       "<div>\n",
       "<style scoped>\n",
       "    .dataframe tbody tr th:only-of-type {\n",
       "        vertical-align: middle;\n",
       "    }\n",
       "\n",
       "    .dataframe tbody tr th {\n",
       "        vertical-align: top;\n",
       "    }\n",
       "\n",
       "    .dataframe thead th {\n",
       "        text-align: right;\n",
       "    }\n",
       "</style>\n",
       "<table border=\"1\" class=\"dataframe\">\n",
       "  <thead>\n",
       "    <tr style=\"text-align: right;\">\n",
       "      <th></th>\n",
       "      <th>Quality</th>\n",
       "      <th>Ambient T (C)</th>\n",
       "      <th>Process T (C)</th>\n",
       "      <th>Rotation Speed (rpm)</th>\n",
       "      <th>Torque (Nm)</th>\n",
       "      <th>Tool Wear (min)</th>\n",
       "      <th>Machine Status</th>\n",
       "    </tr>\n",
       "  </thead>\n",
       "  <tbody>\n",
       "    <tr>\n",
       "      <th>0</th>\n",
       "      <td>1</td>\n",
       "      <td>24.95</td>\n",
       "      <td>35.45</td>\n",
       "      <td>1551.0</td>\n",
       "      <td>42.8</td>\n",
       "      <td>0</td>\n",
       "      <td>0</td>\n",
       "    </tr>\n",
       "    <tr>\n",
       "      <th>1</th>\n",
       "      <td>0</td>\n",
       "      <td>25.05</td>\n",
       "      <td>35.55</td>\n",
       "      <td>1408.0</td>\n",
       "      <td>46.3</td>\n",
       "      <td>3</td>\n",
       "      <td>0</td>\n",
       "    </tr>\n",
       "    <tr>\n",
       "      <th>2</th>\n",
       "      <td>0</td>\n",
       "      <td>24.95</td>\n",
       "      <td>35.35</td>\n",
       "      <td>1498.0</td>\n",
       "      <td>49.4</td>\n",
       "      <td>5</td>\n",
       "      <td>0</td>\n",
       "    </tr>\n",
       "    <tr>\n",
       "      <th>3</th>\n",
       "      <td>0</td>\n",
       "      <td>25.05</td>\n",
       "      <td>35.45</td>\n",
       "      <td>1433.0</td>\n",
       "      <td>39.5</td>\n",
       "      <td>7</td>\n",
       "      <td>0</td>\n",
       "    </tr>\n",
       "    <tr>\n",
       "      <th>4</th>\n",
       "      <td>0</td>\n",
       "      <td>25.05</td>\n",
       "      <td>35.55</td>\n",
       "      <td>1408.0</td>\n",
       "      <td>40.0</td>\n",
       "      <td>9</td>\n",
       "      <td>0</td>\n",
       "    </tr>\n",
       "  </tbody>\n",
       "</table>\n",
       "</div>"
      ],
      "text/plain": [
       "   Quality  Ambient T (C)  Process T (C)  Rotation Speed (rpm)  Torque (Nm)  \\\n",
       "0        1          24.95          35.45                1551.0         42.8   \n",
       "1        0          25.05          35.55                1408.0         46.3   \n",
       "2        0          24.95          35.35                1498.0         49.4   \n",
       "3        0          25.05          35.45                1433.0         39.5   \n",
       "4        0          25.05          35.55                1408.0         40.0   \n",
       "\n",
       "   Tool Wear (min)  Machine Status  \n",
       "0                0               0  \n",
       "1                3               0  \n",
       "2                5               0  \n",
       "3                7               0  \n",
       "4                9               0  "
      ]
     },
     "execution_count": 14,
     "metadata": {},
     "output_type": "execute_result"
    }
   ],
   "source": [
    "# label encoding for Quality column\n",
    "factoryData['Quality'] = factoryData['Quality'].map({'L': 0, 'M': 1, 'H': 2})\n",
    "factoryData.head()  \n",
    "# as seen in head L, M, H is transformed into 0, 1, 2\n",
    "# label encoding is used instead of one hot or dummy as Quality can be ordered : L, M, H \n",
    "# machines of lower quality may have lower chances of functinoing while machines of higher quality may have higher chances of functioning\n",
    "# now the data in Quality column can be used to train models"
   ]
  },
  {
   "cell_type": "code",
   "execution_count": 15,
   "id": "b4b043e0-4507-42f2-9841-578dea01d562",
   "metadata": {},
   "outputs": [],
   "source": [
    "# seperating data into data and targets \n",
    "# X is all the data, y is target\n",
    "X = factoryData.drop(['Machine Status'], axis=1).values\n",
    "y = factoryData['Machine Status'].values "
   ]
  },
  {
   "cell_type": "code",
   "execution_count": 16,
   "id": "ce261f65-cde1-4bab-be67-52b86904cc2f",
   "metadata": {},
   "outputs": [
    {
     "name": "stdout",
     "output_type": "stream",
     "text": [
      "Testing data shape (X_test, y_test) : (3506, 6) (3506,)\n"
     ]
    }
   ],
   "source": [
    "# train test split : train and test data \n",
    "X_train, X_test, y_train, y_test = train_test_split(X, y, test_size = 0.2, stratify=y)\n",
    "#  X_train and y_train is to be split further \n",
    "# y_test and y_test is training data and target\n",
    "# stratify=y makes it such that the proportion of 0s and 1s remain the same when data is split in each respective group\n",
    "\n",
    "# verifying data has been split\n",
    "print('Testing data shape (X_test, y_test) :', X_test.shape, y_test.shape)"
   ]
  },
  {
   "cell_type": "code",
   "execution_count": 17,
   "id": "dfa3a876-f154-4f80-a93d-feae5c752815",
   "metadata": {},
   "outputs": [
    {
     "name": "stdout",
     "output_type": "stream",
     "text": [
      "Training data shape (X_train, y_train) : (11218, 6) (11218,)\n",
      "Validation data : (2805, 6) (2805,)\n"
     ]
    }
   ],
   "source": [
    "# train test split : further split the train set into a new train and validation set\n",
    "X_train, X_val, y_train, y_val = train_test_split(X_train, y_train, test_size=0.2, stratify=y_train)\n",
    "# X_train and y_train for training models\n",
    "# X_val and y_val is validation data used for selecing best performing models before evaluating the final best one\n",
    "\n",
    "# verifying data has been split based on number of columns of data\n",
    "print('Training data shape (X_train, y_train) :',X_train.shape, y_train.shape)\n",
    "print('Validation data :', X_val.shape, y_val.shape)"
   ]
  },
  {
   "cell_type": "markdown",
   "id": "53fa6842-cb64-4e91-b245-4e38bbc2952c",
   "metadata": {},
   "source": [
    "# 5) Machine Learning Models"
   ]
  },
  {
   "cell_type": "code",
   "execution_count": 18,
   "id": "62767d57-8d14-41b8-ad19-f79c5571c469",
   "metadata": {},
   "outputs": [
    {
     "name": "stdout",
     "output_type": "stream",
     "text": [
      "Logistic Regression :\n",
      "f1 score = 34.20%,\n",
      "recall = 23.37%\n",
      "\n",
      "Decision Tree :\n",
      "f1 score = 69.65%,\n",
      "recall = 75.03%\n",
      "\n",
      "Random Forest :\n",
      "f1 score = 67.19%,\n",
      "recall = 55.72%\n",
      "\n",
      "Support Vector Classifier :\n",
      "f1 score = 0.00%,\n",
      "recall = 0.00%\n",
      "\n",
      "KNN :\n",
      "f1 score = 34.62%,\n",
      "recall = 23.54%\n",
      "\n",
      "Gradient Boosting :\n",
      "f1 score = 59.94%,\n",
      "recall = 51.04%\n",
      "\n"
     ]
    }
   ],
   "source": [
    "# models selected to train and compare\n",
    "models = {\n",
    "    'Logistic Regression' : LogisticRegression(),\n",
    "    # Reason : Handles linearly separable data well in case the data provides a clear linear relationship to suggest machine status.\n",
    "    'Decision Tree' : DecisionTreeClassifier(),\n",
    "    # Reason : Handles non-linear relationships well in case there is no linear pattern to be found that leads to whether machine is working or not.\n",
    "    'Random Forest' : RandomForestClassifier(),\n",
    "    # Reason : Reduces overfitting compared to individual tree and has better generalization and accuracy in non-linear data, incase there is overfitting and incase there is non-linear relations.\n",
    "    'Support Vector Classifier' : SVC(),\n",
    "    # Reason : Effective in high-dimensional spaces and for data that might not have a clear linear relationship. \n",
    "    'KNN' : KNeighborsClassifier(),\n",
    "    # Reason : Adapts well to patterns in data to look for patterns in identifying machine status.\n",
    "    'Gradient Boosting' : GradientBoostingClassifier()\n",
    "    # Reason : Works well with both structured and not that structured data, and that it is more accurate but more diffnicult to uderstand.\n",
    "}\n",
    "\n",
    "# defining kfold \n",
    "kf = KFold(n_splits=10, shuffle=True, random_state=42)\n",
    "\n",
    "# cross validating models with validation data to compare models as it is more accurate than just .fit()\n",
    "for name, model in models.items():\n",
    "    \n",
    "    # f1 score calculation\n",
    "    f1 = cross_val_score(model, X_val, y_val, cv=kf, scoring='f1')\n",
    "    \n",
    "    # recall calculation\n",
    "    recall = cross_val_score(model, X_val, y_val, cv=kf, scoring='recall')\n",
    "\n",
    "    # printing scores\n",
    "    print(f'{name} :\\nf1 score = {100*f1.mean():.2f}%,\\nrecall = {100*recall.mean():.2f}%\\n')\n",
    "\n",
    "# we are calculating and evaluating models based on f1 score and recall \n",
    "# accuracy is not used as data is heavily skewed towards negative, if a model randomly guesses everything to be 0s, it can get a high accuracy too \n",
    "# recall is used as it is very important for the model to calculate the true positives \n",
    "# this is because, since there is very little positives in the dataset, it is more valueble to predict the positives correctly \n",
    "# specifically in this context, since many models are not functioning, it is very important to identify working ones so that they can be used\n",
    "# f1 score is used as a secondary comparison as it is a balance of recall and precision, which can be used as a rough idea of a models performance "
   ]
  },
  {
   "cell_type": "markdown",
   "id": "7a807e3a-1dcf-4d94-af44-a3594dd6df27",
   "metadata": {},
   "source": [
    "# 6) Hyper Parameters Tuning"
   ]
  },
  {
   "cell_type": "code",
   "execution_count": 19,
   "id": "d16ce213-41ca-4d74-998d-8435b80dd4d2",
   "metadata": {},
   "outputs": [],
   "source": [
    "# merging training data with validation data\n",
    "# this makes the training data even bigger and with more data, the model can trained better \n",
    "X_train = np.concatenate((X_train, X_val))\n",
    "y_train = np.concatenate((y_train, y_val))\n",
    "# we will then train the final model with this new training data and test it using the testing data"
   ]
  },
  {
   "cell_type": "code",
   "execution_count": 20,
   "id": "8e6fc917-bea6-48ba-8df5-120dd270b600",
   "metadata": {},
   "outputs": [
    {
     "name": "stdout",
     "output_type": "stream",
     "text": [
      "Fitting 5 folds for each of 1440 candidates, totalling 7200 fits\n"
     ]
    },
    {
     "data": {
      "text/html": [
       "<style>#sk-container-id-1 {\n",
       "  /* Definition of color scheme common for light and dark mode */\n",
       "  --sklearn-color-text: black;\n",
       "  --sklearn-color-line: gray;\n",
       "  /* Definition of color scheme for unfitted estimators */\n",
       "  --sklearn-color-unfitted-level-0: #fff5e6;\n",
       "  --sklearn-color-unfitted-level-1: #f6e4d2;\n",
       "  --sklearn-color-unfitted-level-2: #ffe0b3;\n",
       "  --sklearn-color-unfitted-level-3: chocolate;\n",
       "  /* Definition of color scheme for fitted estimators */\n",
       "  --sklearn-color-fitted-level-0: #f0f8ff;\n",
       "  --sklearn-color-fitted-level-1: #d4ebff;\n",
       "  --sklearn-color-fitted-level-2: #b3dbfd;\n",
       "  --sklearn-color-fitted-level-3: cornflowerblue;\n",
       "\n",
       "  /* Specific color for light theme */\n",
       "  --sklearn-color-text-on-default-background: var(--sg-text-color, var(--theme-code-foreground, var(--jp-content-font-color1, black)));\n",
       "  --sklearn-color-background: var(--sg-background-color, var(--theme-background, var(--jp-layout-color0, white)));\n",
       "  --sklearn-color-border-box: var(--sg-text-color, var(--theme-code-foreground, var(--jp-content-font-color1, black)));\n",
       "  --sklearn-color-icon: #696969;\n",
       "\n",
       "  @media (prefers-color-scheme: dark) {\n",
       "    /* Redefinition of color scheme for dark theme */\n",
       "    --sklearn-color-text-on-default-background: var(--sg-text-color, var(--theme-code-foreground, var(--jp-content-font-color1, white)));\n",
       "    --sklearn-color-background: var(--sg-background-color, var(--theme-background, var(--jp-layout-color0, #111)));\n",
       "    --sklearn-color-border-box: var(--sg-text-color, var(--theme-code-foreground, var(--jp-content-font-color1, white)));\n",
       "    --sklearn-color-icon: #878787;\n",
       "  }\n",
       "}\n",
       "\n",
       "#sk-container-id-1 {\n",
       "  color: var(--sklearn-color-text);\n",
       "}\n",
       "\n",
       "#sk-container-id-1 pre {\n",
       "  padding: 0;\n",
       "}\n",
       "\n",
       "#sk-container-id-1 input.sk-hidden--visually {\n",
       "  border: 0;\n",
       "  clip: rect(1px 1px 1px 1px);\n",
       "  clip: rect(1px, 1px, 1px, 1px);\n",
       "  height: 1px;\n",
       "  margin: -1px;\n",
       "  overflow: hidden;\n",
       "  padding: 0;\n",
       "  position: absolute;\n",
       "  width: 1px;\n",
       "}\n",
       "\n",
       "#sk-container-id-1 div.sk-dashed-wrapped {\n",
       "  border: 1px dashed var(--sklearn-color-line);\n",
       "  margin: 0 0.4em 0.5em 0.4em;\n",
       "  box-sizing: border-box;\n",
       "  padding-bottom: 0.4em;\n",
       "  background-color: var(--sklearn-color-background);\n",
       "}\n",
       "\n",
       "#sk-container-id-1 div.sk-container {\n",
       "  /* jupyter's `normalize.less` sets `[hidden] { display: none; }`\n",
       "     but bootstrap.min.css set `[hidden] { display: none !important; }`\n",
       "     so we also need the `!important` here to be able to override the\n",
       "     default hidden behavior on the sphinx rendered scikit-learn.org.\n",
       "     See: https://github.com/scikit-learn/scikit-learn/issues/21755 */\n",
       "  display: inline-block !important;\n",
       "  position: relative;\n",
       "}\n",
       "\n",
       "#sk-container-id-1 div.sk-text-repr-fallback {\n",
       "  display: none;\n",
       "}\n",
       "\n",
       "div.sk-parallel-item,\n",
       "div.sk-serial,\n",
       "div.sk-item {\n",
       "  /* draw centered vertical line to link estimators */\n",
       "  background-image: linear-gradient(var(--sklearn-color-text-on-default-background), var(--sklearn-color-text-on-default-background));\n",
       "  background-size: 2px 100%;\n",
       "  background-repeat: no-repeat;\n",
       "  background-position: center center;\n",
       "}\n",
       "\n",
       "/* Parallel-specific style estimator block */\n",
       "\n",
       "#sk-container-id-1 div.sk-parallel-item::after {\n",
       "  content: \"\";\n",
       "  width: 100%;\n",
       "  border-bottom: 2px solid var(--sklearn-color-text-on-default-background);\n",
       "  flex-grow: 1;\n",
       "}\n",
       "\n",
       "#sk-container-id-1 div.sk-parallel {\n",
       "  display: flex;\n",
       "  align-items: stretch;\n",
       "  justify-content: center;\n",
       "  background-color: var(--sklearn-color-background);\n",
       "  position: relative;\n",
       "}\n",
       "\n",
       "#sk-container-id-1 div.sk-parallel-item {\n",
       "  display: flex;\n",
       "  flex-direction: column;\n",
       "}\n",
       "\n",
       "#sk-container-id-1 div.sk-parallel-item:first-child::after {\n",
       "  align-self: flex-end;\n",
       "  width: 50%;\n",
       "}\n",
       "\n",
       "#sk-container-id-1 div.sk-parallel-item:last-child::after {\n",
       "  align-self: flex-start;\n",
       "  width: 50%;\n",
       "}\n",
       "\n",
       "#sk-container-id-1 div.sk-parallel-item:only-child::after {\n",
       "  width: 0;\n",
       "}\n",
       "\n",
       "/* Serial-specific style estimator block */\n",
       "\n",
       "#sk-container-id-1 div.sk-serial {\n",
       "  display: flex;\n",
       "  flex-direction: column;\n",
       "  align-items: center;\n",
       "  background-color: var(--sklearn-color-background);\n",
       "  padding-right: 1em;\n",
       "  padding-left: 1em;\n",
       "}\n",
       "\n",
       "\n",
       "/* Toggleable style: style used for estimator/Pipeline/ColumnTransformer box that is\n",
       "clickable and can be expanded/collapsed.\n",
       "- Pipeline and ColumnTransformer use this feature and define the default style\n",
       "- Estimators will overwrite some part of the style using the `sk-estimator` class\n",
       "*/\n",
       "\n",
       "/* Pipeline and ColumnTransformer style (default) */\n",
       "\n",
       "#sk-container-id-1 div.sk-toggleable {\n",
       "  /* Default theme specific background. It is overwritten whether we have a\n",
       "  specific estimator or a Pipeline/ColumnTransformer */\n",
       "  background-color: var(--sklearn-color-background);\n",
       "}\n",
       "\n",
       "/* Toggleable label */\n",
       "#sk-container-id-1 label.sk-toggleable__label {\n",
       "  cursor: pointer;\n",
       "  display: block;\n",
       "  width: 100%;\n",
       "  margin-bottom: 0;\n",
       "  padding: 0.5em;\n",
       "  box-sizing: border-box;\n",
       "  text-align: center;\n",
       "}\n",
       "\n",
       "#sk-container-id-1 label.sk-toggleable__label-arrow:before {\n",
       "  /* Arrow on the left of the label */\n",
       "  content: \"▸\";\n",
       "  float: left;\n",
       "  margin-right: 0.25em;\n",
       "  color: var(--sklearn-color-icon);\n",
       "}\n",
       "\n",
       "#sk-container-id-1 label.sk-toggleable__label-arrow:hover:before {\n",
       "  color: var(--sklearn-color-text);\n",
       "}\n",
       "\n",
       "/* Toggleable content - dropdown */\n",
       "\n",
       "#sk-container-id-1 div.sk-toggleable__content {\n",
       "  max-height: 0;\n",
       "  max-width: 0;\n",
       "  overflow: hidden;\n",
       "  text-align: left;\n",
       "  /* unfitted */\n",
       "  background-color: var(--sklearn-color-unfitted-level-0);\n",
       "}\n",
       "\n",
       "#sk-container-id-1 div.sk-toggleable__content.fitted {\n",
       "  /* fitted */\n",
       "  background-color: var(--sklearn-color-fitted-level-0);\n",
       "}\n",
       "\n",
       "#sk-container-id-1 div.sk-toggleable__content pre {\n",
       "  margin: 0.2em;\n",
       "  border-radius: 0.25em;\n",
       "  color: var(--sklearn-color-text);\n",
       "  /* unfitted */\n",
       "  background-color: var(--sklearn-color-unfitted-level-0);\n",
       "}\n",
       "\n",
       "#sk-container-id-1 div.sk-toggleable__content.fitted pre {\n",
       "  /* unfitted */\n",
       "  background-color: var(--sklearn-color-fitted-level-0);\n",
       "}\n",
       "\n",
       "#sk-container-id-1 input.sk-toggleable__control:checked~div.sk-toggleable__content {\n",
       "  /* Expand drop-down */\n",
       "  max-height: 200px;\n",
       "  max-width: 100%;\n",
       "  overflow: auto;\n",
       "}\n",
       "\n",
       "#sk-container-id-1 input.sk-toggleable__control:checked~label.sk-toggleable__label-arrow:before {\n",
       "  content: \"▾\";\n",
       "}\n",
       "\n",
       "/* Pipeline/ColumnTransformer-specific style */\n",
       "\n",
       "#sk-container-id-1 div.sk-label input.sk-toggleable__control:checked~label.sk-toggleable__label {\n",
       "  color: var(--sklearn-color-text);\n",
       "  background-color: var(--sklearn-color-unfitted-level-2);\n",
       "}\n",
       "\n",
       "#sk-container-id-1 div.sk-label.fitted input.sk-toggleable__control:checked~label.sk-toggleable__label {\n",
       "  background-color: var(--sklearn-color-fitted-level-2);\n",
       "}\n",
       "\n",
       "/* Estimator-specific style */\n",
       "\n",
       "/* Colorize estimator box */\n",
       "#sk-container-id-1 div.sk-estimator input.sk-toggleable__control:checked~label.sk-toggleable__label {\n",
       "  /* unfitted */\n",
       "  background-color: var(--sklearn-color-unfitted-level-2);\n",
       "}\n",
       "\n",
       "#sk-container-id-1 div.sk-estimator.fitted input.sk-toggleable__control:checked~label.sk-toggleable__label {\n",
       "  /* fitted */\n",
       "  background-color: var(--sklearn-color-fitted-level-2);\n",
       "}\n",
       "\n",
       "#sk-container-id-1 div.sk-label label.sk-toggleable__label,\n",
       "#sk-container-id-1 div.sk-label label {\n",
       "  /* The background is the default theme color */\n",
       "  color: var(--sklearn-color-text-on-default-background);\n",
       "}\n",
       "\n",
       "/* On hover, darken the color of the background */\n",
       "#sk-container-id-1 div.sk-label:hover label.sk-toggleable__label {\n",
       "  color: var(--sklearn-color-text);\n",
       "  background-color: var(--sklearn-color-unfitted-level-2);\n",
       "}\n",
       "\n",
       "/* Label box, darken color on hover, fitted */\n",
       "#sk-container-id-1 div.sk-label.fitted:hover label.sk-toggleable__label.fitted {\n",
       "  color: var(--sklearn-color-text);\n",
       "  background-color: var(--sklearn-color-fitted-level-2);\n",
       "}\n",
       "\n",
       "/* Estimator label */\n",
       "\n",
       "#sk-container-id-1 div.sk-label label {\n",
       "  font-family: monospace;\n",
       "  font-weight: bold;\n",
       "  display: inline-block;\n",
       "  line-height: 1.2em;\n",
       "}\n",
       "\n",
       "#sk-container-id-1 div.sk-label-container {\n",
       "  text-align: center;\n",
       "}\n",
       "\n",
       "/* Estimator-specific */\n",
       "#sk-container-id-1 div.sk-estimator {\n",
       "  font-family: monospace;\n",
       "  border: 1px dotted var(--sklearn-color-border-box);\n",
       "  border-radius: 0.25em;\n",
       "  box-sizing: border-box;\n",
       "  margin-bottom: 0.5em;\n",
       "  /* unfitted */\n",
       "  background-color: var(--sklearn-color-unfitted-level-0);\n",
       "}\n",
       "\n",
       "#sk-container-id-1 div.sk-estimator.fitted {\n",
       "  /* fitted */\n",
       "  background-color: var(--sklearn-color-fitted-level-0);\n",
       "}\n",
       "\n",
       "/* on hover */\n",
       "#sk-container-id-1 div.sk-estimator:hover {\n",
       "  /* unfitted */\n",
       "  background-color: var(--sklearn-color-unfitted-level-2);\n",
       "}\n",
       "\n",
       "#sk-container-id-1 div.sk-estimator.fitted:hover {\n",
       "  /* fitted */\n",
       "  background-color: var(--sklearn-color-fitted-level-2);\n",
       "}\n",
       "\n",
       "/* Specification for estimator info (e.g. \"i\" and \"?\") */\n",
       "\n",
       "/* Common style for \"i\" and \"?\" */\n",
       "\n",
       ".sk-estimator-doc-link,\n",
       "a:link.sk-estimator-doc-link,\n",
       "a:visited.sk-estimator-doc-link {\n",
       "  float: right;\n",
       "  font-size: smaller;\n",
       "  line-height: 1em;\n",
       "  font-family: monospace;\n",
       "  background-color: var(--sklearn-color-background);\n",
       "  border-radius: 1em;\n",
       "  height: 1em;\n",
       "  width: 1em;\n",
       "  text-decoration: none !important;\n",
       "  margin-left: 1ex;\n",
       "  /* unfitted */\n",
       "  border: var(--sklearn-color-unfitted-level-1) 1pt solid;\n",
       "  color: var(--sklearn-color-unfitted-level-1);\n",
       "}\n",
       "\n",
       ".sk-estimator-doc-link.fitted,\n",
       "a:link.sk-estimator-doc-link.fitted,\n",
       "a:visited.sk-estimator-doc-link.fitted {\n",
       "  /* fitted */\n",
       "  border: var(--sklearn-color-fitted-level-1) 1pt solid;\n",
       "  color: var(--sklearn-color-fitted-level-1);\n",
       "}\n",
       "\n",
       "/* On hover */\n",
       "div.sk-estimator:hover .sk-estimator-doc-link:hover,\n",
       ".sk-estimator-doc-link:hover,\n",
       "div.sk-label-container:hover .sk-estimator-doc-link:hover,\n",
       ".sk-estimator-doc-link:hover {\n",
       "  /* unfitted */\n",
       "  background-color: var(--sklearn-color-unfitted-level-3);\n",
       "  color: var(--sklearn-color-background);\n",
       "  text-decoration: none;\n",
       "}\n",
       "\n",
       "div.sk-estimator.fitted:hover .sk-estimator-doc-link.fitted:hover,\n",
       ".sk-estimator-doc-link.fitted:hover,\n",
       "div.sk-label-container:hover .sk-estimator-doc-link.fitted:hover,\n",
       ".sk-estimator-doc-link.fitted:hover {\n",
       "  /* fitted */\n",
       "  background-color: var(--sklearn-color-fitted-level-3);\n",
       "  color: var(--sklearn-color-background);\n",
       "  text-decoration: none;\n",
       "}\n",
       "\n",
       "/* Span, style for the box shown on hovering the info icon */\n",
       ".sk-estimator-doc-link span {\n",
       "  display: none;\n",
       "  z-index: 9999;\n",
       "  position: relative;\n",
       "  font-weight: normal;\n",
       "  right: .2ex;\n",
       "  padding: .5ex;\n",
       "  margin: .5ex;\n",
       "  width: min-content;\n",
       "  min-width: 20ex;\n",
       "  max-width: 50ex;\n",
       "  color: var(--sklearn-color-text);\n",
       "  box-shadow: 2pt 2pt 4pt #999;\n",
       "  /* unfitted */\n",
       "  background: var(--sklearn-color-unfitted-level-0);\n",
       "  border: .5pt solid var(--sklearn-color-unfitted-level-3);\n",
       "}\n",
       "\n",
       ".sk-estimator-doc-link.fitted span {\n",
       "  /* fitted */\n",
       "  background: var(--sklearn-color-fitted-level-0);\n",
       "  border: var(--sklearn-color-fitted-level-3);\n",
       "}\n",
       "\n",
       ".sk-estimator-doc-link:hover span {\n",
       "  display: block;\n",
       "}\n",
       "\n",
       "/* \"?\"-specific style due to the `<a>` HTML tag */\n",
       "\n",
       "#sk-container-id-1 a.estimator_doc_link {\n",
       "  float: right;\n",
       "  font-size: 1rem;\n",
       "  line-height: 1em;\n",
       "  font-family: monospace;\n",
       "  background-color: var(--sklearn-color-background);\n",
       "  border-radius: 1rem;\n",
       "  height: 1rem;\n",
       "  width: 1rem;\n",
       "  text-decoration: none;\n",
       "  /* unfitted */\n",
       "  color: var(--sklearn-color-unfitted-level-1);\n",
       "  border: var(--sklearn-color-unfitted-level-1) 1pt solid;\n",
       "}\n",
       "\n",
       "#sk-container-id-1 a.estimator_doc_link.fitted {\n",
       "  /* fitted */\n",
       "  border: var(--sklearn-color-fitted-level-1) 1pt solid;\n",
       "  color: var(--sklearn-color-fitted-level-1);\n",
       "}\n",
       "\n",
       "/* On hover */\n",
       "#sk-container-id-1 a.estimator_doc_link:hover {\n",
       "  /* unfitted */\n",
       "  background-color: var(--sklearn-color-unfitted-level-3);\n",
       "  color: var(--sklearn-color-background);\n",
       "  text-decoration: none;\n",
       "}\n",
       "\n",
       "#sk-container-id-1 a.estimator_doc_link.fitted:hover {\n",
       "  /* fitted */\n",
       "  background-color: var(--sklearn-color-fitted-level-3);\n",
       "}\n",
       "</style><div id=\"sk-container-id-1\" class=\"sk-top-container\"><div class=\"sk-text-repr-fallback\"><pre>GridSearchCV(cv=5, estimator=DecisionTreeClassifier(), n_jobs=-1,\n",
       "             param_grid={&#x27;criterion&#x27;: [&#x27;gini&#x27;, &#x27;entropy&#x27;],\n",
       "                         &#x27;max_depth&#x27;: [3, 5, 7, 10, None],\n",
       "                         &#x27;max_features&#x27;: [None, &#x27;sqrt&#x27;, &#x27;log2&#x27;],\n",
       "                         &#x27;max_leaf_nodes&#x27;: [None, 10, 20, 50],\n",
       "                         &#x27;min_samples_leaf&#x27;: [1, 5, 10],\n",
       "                         &#x27;min_samples_split&#x27;: [2, 5, 7, 10]},\n",
       "             verbose=3)</pre><b>In a Jupyter environment, please rerun this cell to show the HTML representation or trust the notebook. <br />On GitHub, the HTML representation is unable to render, please try loading this page with nbviewer.org.</b></div><div class=\"sk-container\" hidden><div class=\"sk-item sk-dashed-wrapped\"><div class=\"sk-label-container\"><div class=\"sk-label fitted sk-toggleable\"><input class=\"sk-toggleable__control sk-hidden--visually\" id=\"sk-estimator-id-1\" type=\"checkbox\" ><label for=\"sk-estimator-id-1\" class=\"sk-toggleable__label fitted sk-toggleable__label-arrow fitted\">&nbsp;&nbsp;GridSearchCV<a class=\"sk-estimator-doc-link fitted\" rel=\"noreferrer\" target=\"_blank\" href=\"https://scikit-learn.org/1.4/modules/generated/sklearn.model_selection.GridSearchCV.html\">?<span>Documentation for GridSearchCV</span></a><span class=\"sk-estimator-doc-link fitted\">i<span>Fitted</span></span></label><div class=\"sk-toggleable__content fitted\"><pre>GridSearchCV(cv=5, estimator=DecisionTreeClassifier(), n_jobs=-1,\n",
       "             param_grid={&#x27;criterion&#x27;: [&#x27;gini&#x27;, &#x27;entropy&#x27;],\n",
       "                         &#x27;max_depth&#x27;: [3, 5, 7, 10, None],\n",
       "                         &#x27;max_features&#x27;: [None, &#x27;sqrt&#x27;, &#x27;log2&#x27;],\n",
       "                         &#x27;max_leaf_nodes&#x27;: [None, 10, 20, 50],\n",
       "                         &#x27;min_samples_leaf&#x27;: [1, 5, 10],\n",
       "                         &#x27;min_samples_split&#x27;: [2, 5, 7, 10]},\n",
       "             verbose=3)</pre></div> </div></div><div class=\"sk-parallel\"><div class=\"sk-parallel-item\"><div class=\"sk-item\"><div class=\"sk-label-container\"><div class=\"sk-label fitted sk-toggleable\"><input class=\"sk-toggleable__control sk-hidden--visually\" id=\"sk-estimator-id-2\" type=\"checkbox\" ><label for=\"sk-estimator-id-2\" class=\"sk-toggleable__label fitted sk-toggleable__label-arrow fitted\">estimator: DecisionTreeClassifier</label><div class=\"sk-toggleable__content fitted\"><pre>DecisionTreeClassifier()</pre></div> </div></div><div class=\"sk-serial\"><div class=\"sk-item\"><div class=\"sk-estimator fitted sk-toggleable\"><input class=\"sk-toggleable__control sk-hidden--visually\" id=\"sk-estimator-id-3\" type=\"checkbox\" ><label for=\"sk-estimator-id-3\" class=\"sk-toggleable__label fitted sk-toggleable__label-arrow fitted\">&nbsp;DecisionTreeClassifier<a class=\"sk-estimator-doc-link fitted\" rel=\"noreferrer\" target=\"_blank\" href=\"https://scikit-learn.org/1.4/modules/generated/sklearn.tree.DecisionTreeClassifier.html\">?<span>Documentation for DecisionTreeClassifier</span></a></label><div class=\"sk-toggleable__content fitted\"><pre>DecisionTreeClassifier()</pre></div> </div></div></div></div></div></div></div></div></div>"
      ],
      "text/plain": [
       "GridSearchCV(cv=5, estimator=DecisionTreeClassifier(), n_jobs=-1,\n",
       "             param_grid={'criterion': ['gini', 'entropy'],\n",
       "                         'max_depth': [3, 5, 7, 10, None],\n",
       "                         'max_features': [None, 'sqrt', 'log2'],\n",
       "                         'max_leaf_nodes': [None, 10, 20, 50],\n",
       "                         'min_samples_leaf': [1, 5, 10],\n",
       "                         'min_samples_split': [2, 5, 7, 10]},\n",
       "             verbose=3)"
      ]
     },
     "execution_count": 20,
     "metadata": {},
     "output_type": "execute_result"
    }
   ],
   "source": [
    "# it can be observed that the Decision Tree is the best performing model when tested on validation data \n",
    "# it's f1 score and recall score is the highest compared to the rest of the models\n",
    "# hence, decision tree is selected as the best model\n",
    "# now we tune its hyperparamteers for it to perform even better\n",
    "\n",
    "# define hyperparameters to tune for best model\n",
    "paramsToTune = {\n",
    "    'max_depth': [3, 5, 7, 10, None],\n",
    "    'min_samples_split': [2, 5, 7, 10],\n",
    "    'min_samples_leaf': [1, 5, 10],\n",
    "    'max_features': [None, 'sqrt', 'log2'],\n",
    "    'criterion': ['gini', 'entropy'],\n",
    "    'max_leaf_nodes': [None, 10, 20, 50]\n",
    "}\n",
    "\n",
    "# tuning hyperparameters\n",
    "DecisionTree = DecisionTreeClassifier() \n",
    "DecisionTree_grid = GridSearchCV(estimator=DecisionTree, param_grid=paramsToTune, cv=5, verbose=3, n_jobs=-1)\n",
    "DecisionTree_grid.fit(X_train, y_train) \n",
    "# verbose=3 to see tuning progress, n_jobs=-1 for faster tuning as all processors in computer are to be used for tuning"
   ]
  },
  {
   "cell_type": "markdown",
   "id": "050618c3-6787-4a20-9570-6131558a0569",
   "metadata": {},
   "source": [
    "# 7) Final Model Performance"
   ]
  },
  {
   "cell_type": "code",
   "execution_count": 21,
   "id": "ce4f87a0-a100-405d-bb40-0e010d14c00f",
   "metadata": {},
   "outputs": [
    {
     "name": "stdout",
     "output_type": "stream",
     "text": [
      "Model Performance :\n",
      "Prediction f1_score = 98.8%.\n",
      "Prediction recall_score = 82.4%.\n"
     ]
    }
   ],
   "source": [
    "# evaluating best model based on test data\n",
    "best_model = DecisionTree_grid.best_estimator_ \n",
    "best_model.fit(X_train, y_train)\n",
    "bm_pred = best_model.predict(X_test)\n",
    "\n",
    "# calculating bm recall and f1 score \n",
    "bm_f1 = f1_score(y_test, bm_pred, average='weighted')\n",
    "bm_recall = recall_score(y_test, bm_pred)\n",
    "\n",
    "# printing evaluation \n",
    "print('Model Performance :')\n",
    "print('Prediction f1_score = {:0.1f}%.'.format(100 * bm_f1))\n",
    "print('Prediction recall_score = {:0.1f}%.'.format(100 * bm_recall))\n",
    "# after hyperparameter tuning for the best parameters, the model performed better than before when prediting test data"
   ]
  },
  {
   "cell_type": "code",
   "execution_count": 22,
   "id": "022283d2-41ee-4263-ae60-fd232d2eee33",
   "metadata": {},
   "outputs": [
    {
     "name": "stdout",
     "output_type": "stream",
     "text": [
      "              precision    recall  f1-score   support\n",
      "\n",
      "           0       0.99      0.99      0.99      3387\n",
      "           1       0.82      0.82      0.82       119\n",
      "\n",
      "    accuracy                           0.99      3506\n",
      "   macro avg       0.91      0.91      0.91      3506\n",
      "weighted avg       0.99      0.99      0.99      3506\n",
      "\n"
     ]
    }
   ],
   "source": [
    "# bm classification report \n",
    "print(classification_report(y_test, bm_pred))\n",
    "# this shows all scores including accuracy, f1, recall and precision for positives and negatives for Decision Tree (bm)"
   ]
  },
  {
   "cell_type": "code",
   "execution_count": 23,
   "id": "8348bdea-c335-43d2-a87e-4d422898b40a",
   "metadata": {},
   "outputs": [
    {
     "data": {
      "text/plain": [
       "<sklearn.metrics._plot.confusion_matrix.ConfusionMatrixDisplay at 0x1c5fecbaf00>"
      ]
     },
     "execution_count": 23,
     "metadata": {},
     "output_type": "execute_result"
    },
    {
     "data": {
      "image/png": "[encoded data removed]",
      "text/plain": [
       "<Figure size 640x480 with 2 Axes>"
      ]
     },
     "metadata": {},
     "output_type": "display_data"
    }
   ],
   "source": [
    "# bm confusion matrix\n",
    "# to see how many positives and negatives were wrongly predicted by bm\n",
    "bm_cm = confusion_matrix(y_test, bm_pred)\n",
    "display_cm = ConfusionMatrixDisplay(bm_cm)\n",
    "display_cm.plot()"
   ]
  },
  {
   "cell_type": "markdown",
   "id": "b0f53bb1-2834-4755-9f00-54e514fa776d",
   "metadata": {},
   "source": [
    "# 8) Dummy"
   ]
  },
  {
   "cell_type": "code",
   "execution_count": 24,
   "id": "693c8d10-5914-43a3-8188-21905a8293f1",
   "metadata": {},
   "outputs": [
    {
     "name": "stdout",
     "output_type": "stream",
     "text": [
      "Dummy Regressor has an f1 score of 94.94% and a recall score of 0.00%!\n"
     ]
    }
   ],
   "source": [
    "# dummy classifier for comparing with bm\n",
    "dummy = DummyClassifier() \n",
    "dummy.fit(X_train, y_train)\n",
    "dummy_pred = dummy.predict(X_test)\n",
    "\n",
    "# accuracy and f1 score of dummy\n",
    "dummy_recall = recall_score(y_test, dummy_pred)\n",
    "dummy_f1 = f1_score(y_test, dummy_pred, average='weighted')\n",
    "print(f'Dummy Regressor has an f1 score of {dummy_f1*100:.2f}% and a recall score of {dummy_recall*100:.2f}%!')\n",
    "# recall and f1 score of dummy is observed to be much lower than the best model's\n",
    "# this suggests much poorer performance compared to best model"
   ]
  },
  {
   "cell_type": "code",
   "execution_count": 25,
   "id": "c8ae3424-fc37-4dbb-9b82-cdf827ff8489",
   "metadata": {},
   "outputs": [
    {
     "name": "stdout",
     "output_type": "stream",
     "text": [
      "              precision    recall  f1-score   support\n",
      "\n",
      "           0       0.97      1.00      0.98      3387\n",
      "           1       0.00      0.00      0.00       119\n",
      "\n",
      "    accuracy                           0.97      3506\n",
      "   macro avg       0.48      0.50      0.49      3506\n",
      "weighted avg       0.93      0.97      0.95      3506\n",
      "\n"
     ]
    }
   ],
   "source": [
    "# dummy classification report \n",
    "print(classification_report(y_test, dummy_pred))\n",
    "# this shows all scores including accuracy, f1, recall and precision for positives and negatives for dummy\n",
    "# comparing this to that of the best model's, the dummy performed much worst"
   ]
  },
  {
   "cell_type": "code",
   "execution_count": 26,
   "id": "5a7526d3-5d17-4c9b-9c59-75b3f17d1971",
   "metadata": {},
   "outputs": [
    {
     "data": {
      "text/plain": [
       "<sklearn.metrics._plot.confusion_matrix.ConfusionMatrixDisplay at 0x1c5ff04c6b0>"
      ]
     },
     "execution_count": 26,
     "metadata": {},
     "output_type": "execute_result"
    },
    {
     "data": {
      "image/png": "[encoded data removed]",
      "text/plain": [
       "<Figure size 640x480 with 2 Axes>"
      ]
     },
     "metadata": {},
     "output_type": "display_data"
    }
   ],
   "source": [
    "# dummy confusion matrix\n",
    "dummy_cm = confusion_matrix(y_test, dummy_pred)\n",
    "display_cm = ConfusionMatrixDisplay(dummy_cm)\n",
    "display_cm.plot()\n",
    "# to see how many positives and negatives were wrongly predicted by dummy\n",
    "# dummy performed much worse because it predicted all negatives"
   ]
  },
  {
   "cell_type": "markdown",
   "id": "5dbf3ae4-a262-41b0-a30c-385499999471",
   "metadata": {},
   "source": [
    "# Conclusion"
   ]
  },
  {
   "cell_type": "markdown",
   "id": "3645128e-05ce-4574-be38-c65026781c44",
   "metadata": {},
   "source": [
    "In conclusion, the best model for this classification problem is Random Forest. \n",
    "The performance of this model was improved after tuning its hyperparameters. \n",
    "When compared to the dummy, Random Forest did much better in comparison, this is due to dummy only predicting negatives while Random Forest predicted many positives and negatives correctly."
   ]
  }
 ],
 "metadata": {
  "kernelspec": {
   "display_name": "Python 3 (ipykernel)",
   "language": "python",
   "name": "python3"
  },
  "language_info": {
   "codemirror_mode": {
    "name": "ipython",
    "version": 3
   },
   "file_extension": ".py",
   "mimetype": "text/x-python",
   "name": "python",
   "nbconvert_exporter": "python",
   "pygments_lexer": "ipython3",
   "version": "3.12.7"
  }
 },
 "nbformat": 4,
 "nbformat_minor": 5
}
